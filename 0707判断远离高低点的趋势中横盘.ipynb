{
 "cells": [
  {
   "cell_type": "code",
   "execution_count": 1,
   "metadata": {},
   "outputs": [],
   "source": [
    "from high_low_xuejieZuhui import *\n",
    "import datetime\n",
    "from tqdm import tqdm"
   ]
  },
  {
   "cell_type": "code",
   "execution_count": 2,
   "metadata": {},
   "outputs": [
    {
     "name": "stdout",
     "output_type": "stream",
     "text": [
      "/Users/kai/Desktop/qs/data_csv_distinct_0606/000001.SZ.csv\n"
     ]
    }
   ],
   "source": [
    "filename = '000001.SZ.csv'\n",
    "df = df_init(filename)\n",
    "dic_init()\n",
    "peaks, valleys, high_points, low_points = find_high_low_xuejieZuhui(df, filename, 200, draw=False)"
   ]
  },
  {
   "cell_type": "code",
   "execution_count": 4,
   "metadata": {},
   "outputs": [],
   "source": [
    "def find_horizontal_area(df, high_points, low_points, max_len_of_window=30, min_len_of_window=10, gamma=0.4, view_coe=1, ignore_hl=True):\n",
    "    \"\"\"\n",
    "    此函数的输出为一个dataframe，包含以下列：start_date, end_date, start_price, end_price, price_change, interval\n",
    "    横盘的定义是：此段区间内价格变化不超过滑动窗口内最大价格变化的40%；滑动窗口的定义是从start_date向前数10天，到end_date向后数10天\n",
    "    此函数的输出是一支股票所有的横盘区域\n",
    "    \"\"\"\n",
    "\n",
    "    print('当前参数组合: max_len_of_window = {}, min_len_of_window = {}, gamma = {}'.format(\n",
    "        max_len_of_window, min_len_of_window, gamma))\n",
    "\n",
    "    result = pd.DataFrame(columns=[\n",
    "                          'start_date', 'end_date', 'start_price', 'end_price', 'price_change', 'interval'])\n",
    "\n",
    "    # 循环遍历每个高点和低点，确定横盘区间的起止日期，起始价格和结束价格\n",
    "    index = 0\n",
    "    for i in tqdm(range(len(df))):\n",
    "        if i < index:\n",
    "            continue\n",
    "        for j in range(min_len_of_window+1, max_len_of_window+1):\n",
    "            if i+j >= len(df):\n",
    "                break\n",
    "            start_date = df.iloc[i]['TRADE_DT']\n",
    "            end_date = df.iloc[i+j]['TRADE_DT']\n",
    "\n",
    "            # 判断横盘区间是否包含 high_points 和 low_points 中的点\n",
    "            if ignore_hl:\n",
    "                if any([high['high_date'] >= start_date and high['high_date'] <= end_date for high in high_points]):\n",
    "                    continue\n",
    "                if any([low['low_date'] >= start_date and low['low_date'] <= end_date for low in low_points]):\n",
    "                    continue\n",
    "\n",
    "            # 使用start date, end date, start peice, end price计算滑动窗口内的最大价格变化（窗口内所有价格的最高点减去最低点）\n",
    "            start_date_window = start_date - \\\n",
    "                datetime.timedelta(days=max_len_of_window*view_coe)\n",
    "            end_date_window = end_date + \\\n",
    "                datetime.timedelta(days=max_len_of_window*view_coe)\n",
    "            max_change = df[(df['TRADE_DT'] >= start_date_window) & (df['TRADE_DT'] <= end_date_window)]['S_DQ_CLOSE'].max(\n",
    "            ) - df[(df['TRADE_DT'] >= start_date_window) & (df['TRADE_DT'] <= end_date_window)]['S_DQ_CLOSE'].min()\n",
    "\n",
    "            # 计算横盘区间的价格变化和区间长度\n",
    "            # price_change 是横盘区间内所有价格中最大价格减去最小价格，你需要遍历所有价格\n",
    "            high_price = df[(df['TRADE_DT'] >= start_date) & (\n",
    "                df['TRADE_DT'] <= end_date)]['S_DQ_CLOSE'].max()\n",
    "            low_price = df[(df['TRADE_DT'] >= start_date) & (\n",
    "                df['TRADE_DT'] <= end_date)]['S_DQ_CLOSE'].min()\n",
    "            price_change = high_price - low_price\n",
    "            interval = (end_date - start_date).days\n",
    "\n",
    "            # 判断区间是否为横盘，如果是则将信息添加到 DataFrame 中\n",
    "            if abs(price_change) <= gamma * max_change:\n",
    "                result = result.append({'start_date': start_date,\n",
    "                                        'end_date': end_date,\n",
    "                                        'high_price': high_price,\n",
    "                                        'low_price': low_price,\n",
    "                                        'price_change': price_change,\n",
    "                                        'interval': interval}, ignore_index=True)\n",
    "                index = i+j\n",
    "    print('len of result:', len(result))\n",
    "    print('mean of interval:', result['interval'].mean())\n",
    "    result['interval'].plot.hist(bins=20)\n",
    "    return result\n"
   ]
  },
  {
   "cell_type": "code",
   "execution_count": 5,
   "metadata": {},
   "outputs": [],
   "source": [
    "def draw_horizontal_area(df, result, peaks, valleys, high_points, low_points, n_days=100, print_result=True):\n",
    "    # 获取最后100天的数据\n",
    "    last_hundred_days_df = df.tail(n_days)\n",
    "    # 绘制折线图\n",
    "    plt.plot(last_hundred_days_df['TRADE_DT'],\n",
    "            last_hundred_days_df['S_DQ_CLOSE'], color='royalblue', label='stock price', alpha=0.8)\n",
    "    # 将last_hundred_days_df['TRADE_DT']转换为与peaks中日期格式相同的字符串格式\n",
    "    last_hundred_days_dates = last_hundred_days_df['TRADE_DT'].dt.strftime(\n",
    "        '%Y-%m-%d')\n",
    "    # 提取最后100天内的峰值和谷值\n",
    "    last_hundred_days_peaks = [peak for peak in peaks if peak['date'].strftime(\n",
    "        '%Y-%m-%d') in last_hundred_days_dates.values]\n",
    "    last_hundred_days_valleys = [valley for valley in valleys if valley['date'].strftime(\n",
    "        '%Y-%m-%d') in last_hundred_days_dates.values]\n",
    "\n",
    "    # 提取最后100天内的高点和低点\n",
    "    last_hundred_days_high = [high_point for high_point in high_points if high_point['high_date'].strftime(\n",
    "        '%Y-%m-%d') in last_hundred_days_dates.values]\n",
    "    last_hundred_days_low = [low_point for low_point in low_points if low_point['low_date'].strftime(\n",
    "        '%Y-%m-%d') in last_hundred_days_dates.values]\n",
    "\n",
    "\n",
    "    # 标记峰值和谷值\n",
    "    for peak in last_hundred_days_peaks:\n",
    "        plt.scatter(peak['date'], peak['price'], color='red',\n",
    "                    marker='^', label='Peak', alpha=0.3)\n",
    "    for valley in last_hundred_days_valleys:\n",
    "        plt.scatter(valley['date'], valley['price'],\n",
    "                    color='green', marker='v', label='Valley', alpha=0.3)\n",
    "\n",
    "    # 标记高点和低点\n",
    "    for high_point in last_hundred_days_high:\n",
    "        plt.scatter(high_point['high_date'], high_point['high_price'],\n",
    "                    color='red', marker='*', label='high', s=80)\n",
    "    for low_point in last_hundred_days_low:\n",
    "        plt.scatter(low_point['low_date'], low_point['low_price'],\n",
    "                    color='green', marker='*', label='low', s=80)\n",
    "\n",
    "    # 使用plt.axvspan方法绘制横盘区间，参数为alpha=0.3, color='green'，确保仅绘制最后100天内的横盘区间\n",
    "    result = result.drop_duplicates(subset=['start_date'])\n",
    "    for i in range(len(result)):\n",
    "        if result['start_date'].iloc[i] - pd.to_datetime('2023-06-06',format=\"%Y-%m-%d\") > -datetime.timedelta(days=1.4*n_days):\n",
    "            if print_result:\n",
    "                print(result['start_date'].iloc[i])\n",
    "                print(result['end_date'].iloc[i])\n",
    "                print(result['interval'].iloc[i])\n",
    "                print\n",
    "                print('---')\n",
    "            plt.axvspan(result['start_date'].iloc[i], result['end_date'].iloc[i],\n",
    "                        alpha=0.3, color='green')\n",
    "\n",
    "    # 设置图形标题和标签\n",
    "    plt.title('Stock Price')\n",
    "    plt.xlabel('Date')\n",
    "    plt.ylabel('Price')\n",
    "    # 获取当前图形中的所有句柄和标签\n",
    "    handles, labels = plt.gca().get_legend_handles_labels()\n",
    "\n",
    "    # 去除重复的标签\n",
    "    unique_labels = set(labels)\n",
    "\n",
    "    # 创建新的标签和句柄列表, 其中元素按照'stock price', 'Peak', 'Valley', 'high', 'low'的顺序排列\n",
    "    new_labels = ['stock price', 'Peak', 'Valley', 'high', 'low']\n",
    "    new_handles = []\n",
    "    for new_label in new_labels:\n",
    "        for i in range(len(labels)):\n",
    "            if labels[i] == new_label:\n",
    "                new_handles.append(handles[i])\n",
    "                break\n",
    "\n",
    "    plt.legend(handles=new_handles, labels=new_labels)\n",
    "    plt.show()"
   ]
  },
  {
   "cell_type": "code",
   "execution_count": 6,
   "metadata": {},
   "outputs": [
    {
     "name": "stdout",
     "output_type": "stream",
     "text": [
      "当前参数组合: max_len_of_window = 40, min_len_of_window = 12, gamma = 0.3\n"
     ]
    },
    {
     "name": "stderr",
     "output_type": "stream",
     "text": [
      "100%|██████████| 5676/5676 [00:31<00:00, 182.95it/s]"
     ]
    },
    {
     "name": "stdout",
     "output_type": "stream",
     "text": [
      "len of result: 468\n",
      "mean of interval: 28.132478632478634\n"
     ]
    },
    {
     "name": "stderr",
     "output_type": "stream",
     "text": [
      "\n"
     ]
    },
    {
     "data": {
      "image/png": "[encoded data removed]",
      "text/plain": [
       "<Figure size 432x288 with 1 Axes>"
      ]
     },
     "metadata": {
      "needs_background": "light"
     },
     "output_type": "display_data"
    }
   ],
   "source": [
    "max_len_of_window = 40\n",
    "min_len_of_window = 12\n",
    "gamma = 0.3  # 最大变化率\n",
    "view_coe = 0.8  # 视野系数\n",
    "\n",
    "result = find_horizontal_area(df, high_points, low_points, max_len_of_window, min_len_of_window, gamma, view_coe, ignore_hl=True)"
   ]
  },
  {
   "cell_type": "code",
   "execution_count": 7,
   "metadata": {},
   "outputs": [
    {
     "name": "stdout",
     "output_type": "stream",
     "text": [
      "2022-05-23 00:00:00\n",
      "2022-06-20 00:00:00\n",
      "28\n",
      "---\n",
      "2022-06-23 00:00:00\n",
      "2022-07-12 00:00:00\n",
      "19\n",
      "---\n",
      "2022-08-11 00:00:00\n",
      "2022-08-30 00:00:00\n",
      "19\n",
      "---\n",
      "2022-12-12 00:00:00\n",
      "2022-12-29 00:00:00\n",
      "17\n",
      "---\n",
      "2023-03-09 00:00:00\n",
      "2023-03-28 00:00:00\n",
      "19\n",
      "---\n",
      "2023-03-30 00:00:00\n",
      "2023-04-19 00:00:00\n",
      "20\n",
      "---\n"
     ]
    },
    {
     "data": {
      "image/png": "[encoded data removed]",
      "text/plain": [
       "<Figure size 432x288 with 1 Axes>"
      ]
     },
     "metadata": {
      "needs_background": "light"
     },
     "output_type": "display_data"
    }
   ],
   "source": [
    "n_days=300\n",
    "draw_horizontal_area(df, result, peaks, valleys, high_points, low_points, n_days, print_result=True)"
   ]
  }
 ],
 "metadata": {
  "kernelspec": {
   "display_name": "base",
   "language": "python",
   "name": "python3"
  },
  "language_info": {
   "codemirror_mode": {
    "name": "ipython",
    "version": 3
   },
   "file_extension": ".py",
   "mimetype": "text/x-python",
   "name": "python",
   "nbconvert_exporter": "python",
   "pygments_lexer": "ipython3",
   "version": "3.9.7"
  },
  "orig_nbformat": 4
 },
 "nbformat": 4,
 "nbformat_minor": 2
}
