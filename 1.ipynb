{
 "cells": [
  {
   "cell_type": "code",
   "execution_count": null,
   "metadata": {},
   "outputs": [],
   "source": [
    "import horizontal_area as ha\n",
    "import high_low_xuejie_zuhui as hl\n",
    "filename = '000001.SZ.csv'\n",
    "draw_n_days = 400\n",
    "df = hl.df_init(filename)\n"
   ]
  },
  {
   "cell_type": "code",
   "execution_count": null,
   "metadata": {},
   "outputs": [],
   "source": [
    "df"
   ]
  },
  {
   "cell_type": "code",
   "execution_count": null,
   "metadata": {},
   "outputs": [],
   "source": [
    "result"
   ]
  },
  {
   "cell_type": "code",
   "execution_count": null,
   "metadata": {},
   "outputs": [],
   "source": [
    "high_points, low_points = hl.find_high_low(df, save_data=False)"
   ]
  },
  {
   "cell_type": "code",
   "execution_count": null,
   "metadata": {},
   "outputs": [],
   "source": [
    "peaks, valleys, high_points, low_points = hl.find_high_low_old(df, save_data=False, draw=True)\n",
    "result = ha.find_ha_near_hl(df, high_points, low_points)\n",
    "ha.draw_horizontal_area(df, result, high_points, low_points, filename, n_days=200)"
   ]
  },
  {
   "cell_type": "code",
   "execution_count": null,
   "metadata": {},
   "outputs": [],
   "source": [
    "# 完整测试\n",
    "import horizontal_area as ha\n",
    "import high_low_xuejie_zuhui as hl\n",
    "filename = '000001.SZ.csv'\n",
    "df = hl.df_init(filename)\n",
    "high_points, low_points = hl.find_high_low(df, filename, save_data=False, draw_n_days=400)\n",
    "result = ha.find_horizontal_area(df, high_points, low_points, fft_percentile=100, min_len_of_window=3, ignore_hl=False)\n",
    "ha.draw_horizontal_area(df, result, high_points, low_points, filename, n_days=200, print_result=False, show_plot=True, save_plot=False)"
   ]
  },
  {
   "cell_type": "code",
   "execution_count": null,
   "metadata": {},
   "outputs": [],
   "source": [
    "ha.draw_horizontal_area(df, result, high_points, low_points, filename, n_days=100, print_result=False, show_plot=True, save_plot=False)"
   ]
  },
  {
   "cell_type": "code",
   "execution_count": null,
   "metadata": {},
   "outputs": [],
   "source": [
    "# 对上方得到的data曲线进行DFT变换，得到频域上的信号\n",
    "import numpy as np\n",
    "import matplotlib.pyplot as plt\n",
    "from scipy.fftpack import fft, ifft\n",
    "import pandas as pd\n",
    "import high_low_xuejie_zuhui as hl\n",
    "filename = '000002.SZ.csv'\n",
    "df = hl.df_init(filename)\n",
    "data = df.tail(200)\n",
    "data.plot(x='TRADE_DT', y='S_DQ_CLOSE', figsize=(20, 10))\n",
    "# 对data进行DFT变换\n",
    "data_fft = fft(data['S_DQ_CLOSE'].values)\n",
    "# 可视化\n",
    "plt.figure(figsize=(20, 10))\n",
    "plt.plot(data_fft)\n",
    "plt.show()\n",
    "# 计算频谱中的总能量，并计算高频成分所占的比例。如果高频成分所占比例较小，那么曲线就比较平滑。\n",
    "# 计算频谱中的总能量\n",
    "energy = (data_fft * np.conj(data_fft)).real\n",
    "# 计算高频成分所占的比例\n",
    "high_freq_ratio = np.sum(energy[10:]) / np.sum(energy)\n",
    "print(high_freq_ratio)\n",
    "# 对高频成分进行滤波\n",
    "data_fft_filtered = data_fft.copy()\n",
    "data_fft_filtered[15:] = 0\n",
    "# 对滤波后的数据进行逆变换\n",
    "data_filtered = ifft(data_fft_filtered)\n",
    "# 可视化\n",
    "plt.figure(figsize=(20, 10))\n",
    "plt.plot(data_filtered)\n",
    "plt.show()"
   ]
  },
  {
   "cell_type": "code",
   "execution_count": null,
   "metadata": {},
   "outputs": [],
   "source": [
    "# 对data曲线进行DFT变换，得到频域上的信号\n",
    "import numpy as np\n",
    "import matplotlib.pyplot as plt\n",
    "from scipy.fftpack import fft, ifft\n",
    "import pandas as pd\n",
    "import high_low_xuejie_zuhui as hl\n",
    "filename = '000002.SZ.csv'\n",
    "df = hl.df_init(filename)\n",
    "data = df.tail(200)\n",
    "# 将data等分为20份，对每份按照上述方法求的高频成分所占比例\n",
    "n = 20\n",
    "data_list = np.array_split(data, n)\n",
    "high_freq_ratio_list = []\n",
    "for temp_data in data_list:\n",
    "    data_fft = fft(temp_data['S_DQ_CLOSE'].values)\n",
    "    energy = (data_fft * np.conj(data_fft)).real\n",
    "    high_freq_ratio = np.sum(energy[3:]) / np.sum(energy)\n",
    "    high_freq_ratio_list.append(high_freq_ratio)\n",
    "# 可视化\n",
    "plt.figure(figsize=(20, 10))\n",
    "plt.plot(high_freq_ratio_list)\n",
    "plt.show()\n",
    "print(high_freq_ratio_list)\n",
    "# 使用plt.axvspan将高频成分占比可视化到data曲线上，高频占比越高的区域颜色越深\n",
    "plt.figure(figsize=(20, 10))\n",
    "plt.plot(data['S_DQ_CLOSE'].values)\n",
    "for i in range(len(high_freq_ratio_list)):\n",
    "    plt.axvspan(i * 10, (i + 1) * 10, facecolor='r',\n",
    "                alpha=high_freq_ratio_list[i] * 100)"
   ]
  },
  {
   "cell_type": "markdown",
   "metadata": {},
   "source": [
    "---"
   ]
  },
  {
   "cell_type": "code",
   "execution_count": null,
   "metadata": {},
   "outputs": [],
   "source": [
    "# hl median测试\n",
    "filename = '000001.SZ.csv'\n",
    "df = hl.df_init(filename)\n",
    "high_points, low_points = hl.find_high_low(\n",
    "    df, filename, save_data=False, draw=False)\n",
    "result = ha.find_ha_near_hl_median(df, high_points, low_points, 0.03)\n",
    "ha.draw_horizontal_area(df, result, high_points, low_points, filename,\n",
    "                        n_days=270, print_result=False, show_plot=True, save_plot=False)\n"
   ]
  },
  {
   "cell_type": "code",
   "execution_count": null,
   "metadata": {},
   "outputs": [],
   "source": [
    "high_points, low_points = hl.find_high_low(df, filename, save_data=False, draw_n_days=400)\n",
    "ha.draw_horizontal_area(df, result, high_points, low_points, filename, n_days=200, print_result=False, show_plot=True, save_plot=False)"
   ]
  },
  {
   "cell_type": "code",
   "execution_count": null,
   "metadata": {},
   "outputs": [],
   "source": [
    "rr = pd.DataFrame(ha.cal_diff_rate_between_medians(result))\n",
    "rr.columns = ['change_rate']\n",
    "rr['flag'] = rr['change_rate'].apply(lambda x: '上涨' if x >= 0 else '下跌')\n",
    "rr['change_rate'] = rr['change_rate']*100\n",
    "rr"
   ]
  },
  {
   "cell_type": "code",
   "execution_count": null,
   "metadata": {},
   "outputs": [],
   "source": [
    "# 绘制result中位数的boxplot\n",
    "import matplotlib.pyplot as plt\n",
    "import seaborn as sns\n",
    "\n",
    "plt.rcParams['font.sans-serif']=['Arial Unicode MS'] \n",
    "plt.rcParams['figure.figsize'] = [5, 10]\n",
    "sns.boxplot(x='flag', y='change_rate', data=rr)\n",
    "plt.show()\n",
    "# 绘制histogram\n",
    "plt.rcParams['figure.figsize'] = [7,5]\n",
    "sns.histplot(data=rr, x='change_rate', hue='flag', bins=40)\n"
   ]
  },
  {
   "cell_type": "code",
   "execution_count": null,
   "metadata": {},
   "outputs": [],
   "source": [
    "rr.hist()"
   ]
  },
  {
   "cell_type": "code",
   "execution_count": null,
   "metadata": {},
   "outputs": [],
   "source": [
    "import pandas as pd\n",
    "import horizontal_area as ha\n",
    "import high_low_xuejie_zuhui as hl\n",
    "import matplotlib.pyplot as plt\n",
    "import seaborn as sns\n",
    "from tqdm import tqdm\n",
    "import os\n",
    "\n",
    "count = 0\n",
    "cr_all = pd.DataFrame()\n",
    "data_directory = '/Users/kai/Desktop/qs/data_csv_distinct_0606'\n",
    "for filename in tqdm(os.listdir(data_directory)):\n",
    "    if filename.endswith('.csv') & (count<100):\n",
    "        df = hl.df_init(filename)\n",
    "\n",
    "        high_points, low_points = hl.find_high_low(\n",
    "            df, filename, save_data=False, draw=False)\n",
    "        if pd.DataFrame(high_points).empty:\n",
    "            print(filename, 'no high points')\n",
    "        if pd.DataFrame(low_points).empty:\n",
    "            print(filename, 'no low points')\n",
    "        result = ha.find_ha_near_hl_median(df, high_points, low_points, 0.03)\n",
    "        # ha.draw_horizontal_area(df, result, high_points, low_points, filename,\n",
    "        #                         n_days=400, print_result=False, show_plot=True, save_plot=False)\n",
    "        change_rate = pd.DataFrame(ha.cal_diff_rate_between_medians(result))\n",
    "        if change_rate.empty:\n",
    "            continue\n",
    "        change_rate.columns = ['change_rate']\n",
    "        change_rate['flag'] = change_rate['change_rate'].apply(lambda x: '上涨' if x >= 0 else '下跌')\n",
    "        change_rate['change_rate'] = change_rate['change_rate']*100\n",
    "        cr_all = cr_all.append(change_rate)\n",
    "        count+=1\n",
    "\n",
    "# 重置index\n",
    "cr_all.reset_index(drop=True, inplace=True)\n",
    "plt.rcParams['figure.figsize'] = [7,5]\n",
    "sns.histplot(data=cr_all, x='change_rate', hue='flag', bins=40)\n",
    "plt.show()\n"
   ]
  },
  {
   "cell_type": "code",
   "execution_count": null,
   "metadata": {},
   "outputs": [],
   "source": [
    "plt.rcParams['figure.figsize'] = [7,5]\n",
    "# 去除异常值\n",
    "plt.rcParams['font.sans-serif']=['Arial Unicode MS'] \n",
    "cr_all = cr_all[cr_all['change_rate']<200]\n",
    "sns.histplot(data=cr_all, x='change_rate', hue='flag', bins=60)\n",
    "plt.show()"
   ]
  },
  {
   "cell_type": "code",
   "execution_count": null,
   "metadata": {},
   "outputs": [],
   "source": [
    "plt.rcParams['figure.figsize'] = [5, 8]\n",
    "plt.rcParams['font.sans-serif']=['Arial Unicode MS'] \n",
    "# 绘制boxplot并在图中每个box中位数上用文字写出数值\n",
    "sns.boxplot(x='flag', y='change_rate', data=cr_all)\n",
    "for i in range(len(cr_all.groupby('flag'))):\n",
    "    plt.text(i, cr_all.groupby('flag')['change_rate'].median()[i], \n",
    "             round(cr_all.groupby('flag')['change_rate'].median()[i], 2), \n",
    "             ha='center', va='bottom', fontsize=12)\n",
    "plt.show()"
   ]
  },
  {
   "cell_type": "code",
   "execution_count": null,
   "metadata": {},
   "outputs": [],
   "source": [
    "cr_all['change_rate'] = abs(cr_all['change_rate'])\n",
    "plt.rcParams['figure.figsize'] = [5, 8]\n",
    "plt.rcParams['font.sans-serif']=['Arial Unicode MS'] \n",
    "# 绘制boxplot并在图中每个box中位数上用文字写出数值\n",
    "sns.boxplot(x='flag', y='change_rate', data=cr_all)\n",
    "for i in range(len(cr_all.groupby('flag'))):\n",
    "    plt.text(i, cr_all.groupby('flag')['change_rate'].median()[i], \n",
    "             round(cr_all.groupby('flag')['change_rate'].median()[i], 2), \n",
    "             ha='center', va='bottom', fontsize=12)\n",
    "plt.show()"
   ]
  },
  {
   "cell_type": "code",
   "execution_count": null,
   "metadata": {},
   "outputs": [],
   "source": [
    "# 去除cr_all中的异常值\n",
    "cr_all = cr_all[cr_all['change_rate']<200]\n",
    "ha.draw_medians_all(cr_all)"
   ]
  },
  {
   "cell_type": "code",
   "execution_count": null,
   "metadata": {},
   "outputs": [],
   "source": [
    "heal = 0\n",
    "baoji = 0.51+0.32\n",
    "baoshang = 0.61\n",
    "loss = 0.9\n",
    "a = round(567+0.8*(4655+2394*(1+heal))+(567+0.8*(4655+2394*(1+heal)))*baoji*(baoshang))\n",
    "final = round(540+0.8*(4655+2394*(1+heal))+0.8*loss*(4655+2394*(1+heal))+(540+0.8*(4655+2394*(1+heal))+0.8*loss*(4655+2394*(1+heal)))*baoji*(baoshang))\n",
    "print(a, final)"
   ]
  },
  {
   "cell_type": "code",
   "execution_count": null,
   "metadata": {},
   "outputs": [],
   "source": [
    "heal = 0\n",
    "baoji = 0.51\n",
    "baoshang = 0.61+0.64\n",
    "loss = 0.9\n",
    "a = round(567+0.8*(4655+2394*(1+heal))+(567+0.8*(4655+2394*(1+heal)))*baoji*(baoshang))\n",
    "final = round(540+0.8*(4655+2394*(1+heal))+0.8*loss*(4655+2394*(1+heal))+(540+0.8*(4655+2394*(1+heal))+0.8*loss*(4655+2394*(1+heal)))*baoji*(baoshang))\n",
    "print(a, final)"
   ]
  },
  {
   "cell_type": "code",
   "execution_count": 1,
   "metadata": {},
   "outputs": [
    {
     "name": "stdout",
     "output_type": "stream",
     "text": [
      "止盈 2022-01-02 110\n"
     ]
    }
   ],
   "source": [
    "# BEGIN: 9f7a8d3d9d9c\n",
    "import pandas as pd\n",
    "from close_position import close_position\n",
    "\n",
    "def test_close_position():\n",
    "    # Test case 1: empty dataframe\n",
    "    df = pd.DataFrame(columns=['date', 'price'])\n",
    "    try:\n",
    "        close_position(df)\n",
    "    except ValueError as e:\n",
    "        assert str(e) == 'Input df must contain at least 2 rows.'\n",
    "\n",
    "    # Test case 2: input df is not a DataFrame\n",
    "    df = 'not a dataframe'\n",
    "    try:\n",
    "        close_position(df)\n",
    "    except TypeError as e:\n",
    "        assert str(e) == 'Input df must be a DataFrame.'\n",
    "\n",
    "    # Test case 3: input threshold is not a float\n",
    "    df = pd.DataFrame({'date': ['2022-01-01', '2022-01-02'], 'price': [100, 109]})\n",
    "    threshold = 'not a float'\n",
    "    try:\n",
    "        close_position(df, threshold)\n",
    "    except TypeError as e:\n",
    "        assert str(e) == 'Input threshold must be a float.'\n",
    "\n",
    "    # Test case 4: input threshold is negative\n",
    "    threshold = -0.1\n",
    "    try:\n",
    "        close_position(df, threshold)\n",
    "    except ValueError as e:\n",
    "        assert str(e) == 'Input threshold must be positive.'\n",
    "\n",
    "    # Test case 5: no close position\n",
    "    threshold = 0.1\n",
    "    expected_output = pd.DataFrame(columns=['date', 'price', 'status'])\n",
    "    assert close_position(df, threshold).equals(expected_output)\n",
    "\n",
    "    # Test case 6: close position due to stop loss\n",
    "    df = pd.DataFrame({'date': ['2022-01-01', '2022-01-02', '2022-01-03'], 'price': [100, 90, 80]})\n",
    "    expected_output = pd.DataFrame({'date': ['2022-01-02'], 'price': [90], 'status': [0]})\n",
    "    assert close_position(df, threshold).equals(expected_output)\n",
    "\n",
    "    # Test case 7: close position due to stop profit\n",
    "    df = pd.DataFrame({'date': ['2022-01-01', '2022-01-02', '2022-01-03'], 'price': [100, 110, 120]})\n",
    "    expected_output = pd.DataFrame({'date': ['2022-01-02'], 'price': [110], 'status': [1]})\n",
    "    assert close_position(df, threshold).equals(expected_output)\n",
    "\n",
    "test_close_position()\n",
    "# END: 9f7a8d3d9d9c"
   ]
  },
  {
   "cell_type": "code",
   "execution_count": 4,
   "metadata": {},
   "outputs": [
    {
     "data": {
      "text/plain": [
       "110.00000000000001"
      ]
     },
     "execution_count": 4,
     "metadata": {},
     "output_type": "execute_result"
    }
   ],
   "source": []
  }
 ],
 "metadata": {
  "kernelspec": {
   "display_name": "base",
   "language": "python",
   "name": "python3"
  },
  "language_info": {
   "codemirror_mode": {
    "name": "ipython",
    "version": 3
   },
   "file_extension": ".py",
   "mimetype": "text/x-python",
   "name": "python",
   "nbconvert_exporter": "python",
   "pygments_lexer": "ipython3",
   "version": "3.9.7"
  },
  "orig_nbformat": 4
 },
 "nbformat": 4,
 "nbformat_minor": 2
}
