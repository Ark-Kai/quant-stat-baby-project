{
 "cells": [
  {
   "cell_type": "code",
   "execution_count": null,
   "metadata": {},
   "outputs": [],
   "source": [
    "# 任意位置横盘测试\n",
    "import horizontal_area as ha\n",
    "import high_low_xuejie_zuhui as hl\n",
    "filename = '000001.SZ.csv'\n",
    "df = hl.df_init(filename)\n",
    "high_points, low_points = hl.find_high_low(df, filename, save_data=False, draw_n_days=400)\n",
    "result = ha.find_horizontal_area(df, high_points, low_points, gamma=0.1, fft_percentile=100, min_len_of_window=3, ignore_hl=False)\n",
    "ha.draw_horizontal_area(df, result, high_points, low_points, filename, n_days=200, print_result=False, show_plot=True, save_plot=False)"
   ]
  },
  {
   "cell_type": "code",
   "execution_count": null,
   "metadata": {},
   "outputs": [],
   "source": [
    "\n",
    "result = ha.find_horizontal_area(df, high_points, low_points, view_coe=1.5, gamma=0.1, only_past=True, fft_percentile=100, min_len_of_window=3, ignore_hl=False)"
   ]
  },
  {
   "cell_type": "code",
   "execution_count": null,
   "metadata": {},
   "outputs": [],
   "source": [
    "ha.draw_horizontal_area(df, result, high_points, low_points, filename, n_days=200, print_result=False, show_plot=True, save_plot=False)"
   ]
  },
  {
   "cell_type": "code",
   "execution_count": null,
   "metadata": {},
   "outputs": [],
   "source": [
    "result['interval'].describe()"
   ]
  },
  {
   "cell_type": "code",
   "execution_count": null,
   "metadata": {},
   "outputs": [],
   "source": [
    "# hl median测试\n",
    "import horizontal_area as ha\n",
    "import high_low_xuejie_zuhui as hl\n",
    "filename = '000001.SZ.csv'\n",
    "df = hl.df_init(filename)\n",
    "high_points, low_points = hl.find_high_low(\n",
    "    df, filename, save_data=False, draw=False)\n",
    "result = ha.find_ha_near_hl_median(df, high_points, low_points, 0.03)\n",
    "ha.draw_horizontal_area(df, result, high_points, low_points, filename,\n",
    "                        n_days=270, print_result=False, show_plot=True, save_plot=False)\n"
   ]
  },
  {
   "cell_type": "code",
   "execution_count": null,
   "metadata": {},
   "outputs": [],
   "source": [
    "# 对上方得到的data曲线进行DFT变换，得到频域上的信号\n",
    "import numpy as np\n",
    "import matplotlib.pyplot as plt\n",
    "from scipy.fftpack import fft, ifft\n",
    "import pandas as pd\n",
    "import high_low_xuejie_zuhui as hl\n",
    "filename = '000002.SZ.csv'\n",
    "df = hl.df_init(filename)\n",
    "data = df.tail(200)\n",
    "data.plot(x='TRADE_DT', y='S_DQ_CLOSE', figsize=(20, 10))\n",
    "# 对data进行DFT变换\n",
    "data_fft = fft(data['S_DQ_CLOSE'].values)\n",
    "# 可视化\n",
    "plt.figure(figsize=(20, 10))\n",
    "plt.plot(data_fft)\n",
    "plt.show()\n",
    "# 计算频谱中的总能量，并计算高频成分所占的比例。如果高频成分所占比例较小，那么曲线就比较平滑。\n",
    "# 计算频谱中的总能量\n",
    "energy = (data_fft * np.conj(data_fft)).real\n",
    "# 计算高频成分所占的比例\n",
    "high_freq_ratio = np.sum(energy[10:]) / np.sum(energy)\n",
    "print(high_freq_ratio)\n",
    "# 对高频成分进行滤波\n",
    "data_fft_filtered = data_fft.copy()\n",
    "data_fft_filtered[15:] = 0\n",
    "# 对滤波后的数据进行逆变换\n",
    "data_filtered = ifft(data_fft_filtered)\n",
    "# 可视化\n",
    "plt.figure(figsize=(20, 10))\n",
    "plt.plot(data_filtered)\n",
    "plt.show()"
   ]
  },
  {
   "cell_type": "code",
   "execution_count": null,
   "metadata": {},
   "outputs": [],
   "source": [
    "# 对data曲线进行DFT变换，得到频域上的信号\n",
    "import numpy as np\n",
    "import matplotlib.pyplot as plt\n",
    "from scipy.fftpack import fft, ifft\n",
    "import pandas as pd\n",
    "import high_low_xuejie_zuhui as hl\n",
    "filename = '000002.SZ.csv'\n",
    "df = hl.df_init(filename)\n",
    "data = df.tail(200)\n",
    "# 将data等分为20份，对每份按照上述方法求的高频成分所占比例\n",
    "n = 20\n",
    "data_list = np.array_split(data, n)\n",
    "high_freq_ratio_list = []\n",
    "for temp_data in data_list:\n",
    "    data_fft = fft(temp_data['S_DQ_CLOSE'].values)\n",
    "    energy = (data_fft * np.conj(data_fft)).real\n",
    "    high_freq_ratio = np.sum(energy[3:]) / np.sum(energy)\n",
    "    high_freq_ratio_list.append(high_freq_ratio)\n",
    "# 可视化\n",
    "plt.figure(figsize=(20, 10))\n",
    "plt.plot(high_freq_ratio_list)\n",
    "plt.show()\n",
    "print(high_freq_ratio_list)\n",
    "# 使用plt.axvspan将高频成分占比可视化到data曲线上，高频占比越高的区域颜色越深\n",
    "plt.figure(figsize=(20, 10))\n",
    "plt.plot(data['S_DQ_CLOSE'].values)\n",
    "for i in range(len(high_freq_ratio_list)):\n",
    "    plt.axvspan(i * 10, (i + 1) * 10, facecolor='r',\n",
    "                alpha=high_freq_ratio_list[i] * 100)"
   ]
  },
  {
   "cell_type": "code",
   "execution_count": null,
   "metadata": {},
   "outputs": [],
   "source": [
    "heal = 0\n",
    "baoji = 0.51+0.32\n",
    "baoshang = 0.61\n",
    "loss = 0.9\n",
    "a = round(567+0.8*(4655+2394*(1+heal))+(567+0.8*(4655+2394*(1+heal)))*baoji*(baoshang))\n",
    "final = round(540+0.8*(4655+2394*(1+heal))+0.8*loss*(4655+2394*(1+heal))+(540+0.8*(4655+2394*(1+heal))+0.8*loss*(4655+2394*(1+heal)))*baoji*(baoshang))\n",
    "print(a, final)"
   ]
  },
  {
   "cell_type": "code",
   "execution_count": null,
   "metadata": {},
   "outputs": [],
   "source": [
    "heal = 0\n",
    "baoji = 0.51\n",
    "baoshang = 0.61+0.64\n",
    "loss = 0.9\n",
    "a = round(567+0.8*(4655+2394*(1+heal))+(567+0.8*(4655+2394*(1+heal)))*baoji*(baoshang))\n",
    "final = round(540+0.8*(4655+2394*(1+heal))+0.8*loss*(4655+2394*(1+heal))+(540+0.8*(4655+2394*(1+heal))+0.8*loss*(4655+2394*(1+heal)))*baoji*(baoshang))\n",
    "print(a, final)"
   ]
  },
  {
   "cell_type": "code",
   "execution_count": null,
   "metadata": {},
   "outputs": [],
   "source": [
    "100*1.1"
   ]
  },
  {
   "cell_type": "code",
   "execution_count": null,
   "metadata": {},
   "outputs": [],
   "source": [
    "import high_low_xuejie_zuhui as hl\n",
    "from crash import *\n",
    "df = hl.df_init('000001.SZ.csv')\n",
    "result = crash(df, threshold=0.3)\n",
    "print(result)\n",
    "draw_crash(df, result, '2008-01', '2009-01-01')"
   ]
  },
  {
   "cell_type": "code",
   "execution_count": 4,
   "metadata": {},
   "outputs": [],
   "source": [
    "from high_low_xuejie_zuhui import find_high_low\n",
    "def waves_price_change(df):\n",
    "    \"\"\"\n",
    "    计算了df中每个波段的涨跌幅\n",
    "    \"\"\"\n",
    "    df_cache = df.copy()\n",
    "    df_cache.reset_index(drop=True, inplace=True)\n",
    "    highs, lows = find_high_low(df_cache, draw=False)\n",
    "    high_price = [item['high_price'] for item in highs]\n",
    "    low_price = [item['low_price'] for item in lows]\n",
    "    h=[]\n",
    "    l=[]\n",
    "    for i in range(1, len(highs)-1):\n",
    "        if high_price[i] < high_price[i-1] and high_price[i] < high_price[i+1]:\n",
    "            h.append(highs[i]['high_date'])\n",
    "        if low_price[i] > low_price[i-1] and low_price[i] > low_price[i+1]:\n",
    "            l.append(lows[i]['low_date'])\n",
    "    # 计算h中相邻两日期的差值\n",
    "    h_diff = []\n",
    "    for i in range(1, len(h)-1):\n",
    "        h_diff.append((h[i] - h[i-1]).days)\n",
    "    # 计算l中相邻两日期的差值\n",
    "    l_diff = []\n",
    "    for i in range(1, len(l)):\n",
    "        l_diff.append((l[i] - l[i-1]).days)\n",
    "    return h_diff, l_diff"
   ]
  },
  {
   "cell_type": "code",
   "execution_count": 7,
   "metadata": {},
   "outputs": [
    {
     "name": "stderr",
     "output_type": "stream",
     "text": [
      "  1%|          | 31/5445 [00:07<21:03,  4.29it/s]\n"
     ]
    }
   ],
   "source": [
    "import pandas as pd\n",
    "import high_low_xuejie_zuhui as hl\n",
    "import os\n",
    "from tqdm import tqdm\n",
    "\n",
    "count=0\n",
    "h_diff = []\n",
    "l_diff = []\n",
    "data_directory = '/Users/kai/Desktop/qs/data_csv_distinct_0606'\n",
    "for filename in tqdm(os.listdir(data_directory)):\n",
    "    if filename.endswith('.csv'):\n",
    "        df = hl.df_init(filename)\n",
    "    if count > 30:\n",
    "        break\n",
    "    h_diff1, l_diff1 = waves_price_change(df)\n",
    "    h_diff.extend(h_diff1)\n",
    "    l_diff.extend(l_diff1)\n",
    "    count+=1"
   ]
  },
  {
   "cell_type": "code",
   "execution_count": 8,
   "metadata": {},
   "outputs": [
    {
     "data": {
      "text/plain": [
       "count    609.000000\n",
       "mean     187.399015\n",
       "std      127.169515\n",
       "min       26.000000\n",
       "25%       98.000000\n",
       "50%      161.000000\n",
       "75%      233.000000\n",
       "max      953.000000\n",
       "dtype: float64"
      ]
     },
     "execution_count": 8,
     "metadata": {},
     "output_type": "execute_result"
    }
   ],
   "source": [
    "h_diff = pd.Series(h_diff)\n",
    "h_diff.describe()"
   ]
  },
  {
   "cell_type": "code",
   "execution_count": 11,
   "metadata": {},
   "outputs": [
    {
     "data": {
      "text/plain": [
       "{'whiskers': [<matplotlib.lines.Line2D at 0x7f99ea35cd60>,\n",
       "  <matplotlib.lines.Line2D at 0x7f99ea372130>],\n",
       " 'caps': [<matplotlib.lines.Line2D at 0x7f99ea3724c0>,\n",
       "  <matplotlib.lines.Line2D at 0x7f99ea372850>],\n",
       " 'boxes': [<matplotlib.lines.Line2D at 0x7f99ea35c9d0>],\n",
       " 'medians': [<matplotlib.lines.Line2D at 0x7f99ea372be0>],\n",
       " 'fliers': [<matplotlib.lines.Line2D at 0x7f99ea372f70>],\n",
       " 'means': []}"
      ]
     },
     "execution_count": 11,
     "metadata": {},
     "output_type": "execute_result"
    },
    {
     "data": {
      "image/png": "[encoded data removed]",
      "text/plain": [
       "<Figure size 432x288 with 1 Axes>"
      ]
     },
     "metadata": {
      "needs_background": "light"
     },
     "output_type": "display_data"
    }
   ],
   "source": [
    "import matplotlib.pyplot as plt\n",
    "plt.boxplot(l_diff)"
   ]
  },
  {
   "cell_type": "code",
   "execution_count": 20,
   "metadata": {},
   "outputs": [
    {
     "name": "stdout",
     "output_type": "stream",
     "text": [
      "1\n",
      "3\n",
      "    TRADE_DT  S_DQ_CLOSE\n",
      "1 2023-02-10       49.24\n",
      "3 2023-02-14       43.73\n"
     ]
    },
    {
     "data": {
      "text/html": [
       "<div>\n",
       "<style scoped>\n",
       "    .dataframe tbody tr th:only-of-type {\n",
       "        vertical-align: middle;\n",
       "    }\n",
       "\n",
       "    .dataframe tbody tr th {\n",
       "        vertical-align: top;\n",
       "    }\n",
       "\n",
       "    .dataframe thead th {\n",
       "        text-align: right;\n",
       "    }\n",
       "</style>\n",
       "<table border=\"1\" class=\"dataframe\">\n",
       "  <thead>\n",
       "    <tr style=\"text-align: right;\">\n",
       "      <th></th>\n",
       "      <th>TRADE_DT</th>\n",
       "      <th>S_DQ_CLOSE</th>\n",
       "    </tr>\n",
       "  </thead>\n",
       "  <tbody>\n",
       "    <tr>\n",
       "      <th>0</th>\n",
       "      <td>2023-02-09</td>\n",
       "      <td>54.78</td>\n",
       "    </tr>\n",
       "    <tr>\n",
       "      <th>1</th>\n",
       "      <td>2023-02-10</td>\n",
       "      <td>49.24</td>\n",
       "    </tr>\n",
       "    <tr>\n",
       "      <th>2</th>\n",
       "      <td>2023-02-13</td>\n",
       "      <td>46.28</td>\n",
       "    </tr>\n",
       "    <tr>\n",
       "      <th>3</th>\n",
       "      <td>2023-02-14</td>\n",
       "      <td>43.73</td>\n",
       "    </tr>\n",
       "    <tr>\n",
       "      <th>4</th>\n",
       "      <td>2023-02-15</td>\n",
       "      <td>45.70</td>\n",
       "    </tr>\n",
       "    <tr>\n",
       "      <th>...</th>\n",
       "      <td>...</td>\n",
       "      <td>...</td>\n",
       "    </tr>\n",
       "    <tr>\n",
       "      <th>75</th>\n",
       "      <td>2023-05-31</td>\n",
       "      <td>38.15</td>\n",
       "    </tr>\n",
       "    <tr>\n",
       "      <th>76</th>\n",
       "      <td>2023-06-01</td>\n",
       "      <td>37.65</td>\n",
       "    </tr>\n",
       "    <tr>\n",
       "      <th>77</th>\n",
       "      <td>2023-06-02</td>\n",
       "      <td>37.70</td>\n",
       "    </tr>\n",
       "    <tr>\n",
       "      <th>78</th>\n",
       "      <td>2023-06-05</td>\n",
       "      <td>38.39</td>\n",
       "    </tr>\n",
       "    <tr>\n",
       "      <th>79</th>\n",
       "      <td>2023-06-06</td>\n",
       "      <td>38.70</td>\n",
       "    </tr>\n",
       "  </tbody>\n",
       "</table>\n",
       "<p>80 rows × 2 columns</p>\n",
       "</div>"
      ],
      "text/plain": [
       "     TRADE_DT  S_DQ_CLOSE\n",
       "0  2023-02-09       54.78\n",
       "1  2023-02-10       49.24\n",
       "2  2023-02-13       46.28\n",
       "3  2023-02-14       43.73\n",
       "4  2023-02-15       45.70\n",
       "..        ...         ...\n",
       "75 2023-05-31       38.15\n",
       "76 2023-06-01       37.65\n",
       "77 2023-06-02       37.70\n",
       "78 2023-06-05       38.39\n",
       "79 2023-06-06       38.70\n",
       "\n",
       "[80 rows x 2 columns]"
      ]
     },
     "execution_count": 20,
     "metadata": {},
     "output_type": "execute_result"
    }
   ],
   "source": [
    "a=[]\n",
    "for i in range(1,5):\n",
    "    if i % 2:\n",
    "        print(i)\n",
    "        a.append(i)\n",
    "print(df.iloc[a])\n",
    "df"
   ]
  }
 ],
 "metadata": {
  "kernelspec": {
   "display_name": "base",
   "language": "python",
   "name": "python3"
  },
  "language_info": {
   "codemirror_mode": {
    "name": "ipython",
    "version": 3
   },
   "file_extension": ".py",
   "mimetype": "text/x-python",
   "name": "python",
   "nbconvert_exporter": "python",
   "pygments_lexer": "ipython3",
   "version": "3.9.7"
  },
  "orig_nbformat": 4
 },
 "nbformat": 4,
 "nbformat_minor": 2
}
