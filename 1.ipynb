{
 "cells": [
  {
   "cell_type": "code",
   "execution_count": null,
   "metadata": {},
   "outputs": [],
   "source": [
    "from high_low_xuejieZuhui import *\n",
    "from horizontal_area import *\n",
    "import os\n",
    "from test import *\n",
    "\n",
    "\n",
    "os.chdir('/Users/kai/Desktop/qs/data_csv_distinct_0606')\n",
    "for filename in os.listdir():\n",
    "    # filename = '000001.SZ.csv'\n",
    "    os.chdir('/Users/kai/Desktop/qs/data_csv_distinct_0606/_horizontal_area_pics')\n",
    "    df = df_init(filename)\n",
    "    peaks, valleys, high_points, low_points = find_high_low_xuejieZuhui(\n",
    "        df, filename, save_data=False, draw_n_days=200, draw=False)\n",
    "\n",
    "    max_len_of_window = 40\n",
    "    min_len_of_window = 12\n",
    "    gamma = 0.8  # price_change_50 >= gamma * max_change:\n",
    "    view_coe = 0.8  # 视野·系数\n",
    "\n",
    "    result = find_horizontal_area1(df, high_points, low_points, max_len_of_window,\n",
    "                                min_len_of_window, gamma, view_coe, ignore_hl=True)\n",
    "\n",
    "    n_days = 300\n",
    "    draw_horizontal_area(df, result, peaks, valleys, high_points,\n",
    "                        low_points, filename, n_days, print_result=False, show_plot=False)\n",
    "                        \n",
    "    os.chdir('/Users/kai/Desktop/qs/data_csv_distinct_0606')\n"
   ]
  },
  {
   "cell_type": "code",
   "execution_count": null,
   "metadata": {},
   "outputs": [],
   "source": [
    "from high_low_xuejieZuhui import *\n",
    "from horizontal_area import *\n",
    "import os\n",
    "from test import *"
   ]
  },
  {
   "cell_type": "code",
   "execution_count": null,
   "metadata": {},
   "outputs": [],
   "source": [
    "# filename = '688699.SH.csv'\n",
    "filename = '000001.SZ.csv'\n",
    "df = df_init(filename)\n",
    "peaks, valleys, high_points, low_points = find_high_low_xuejieZuhui(\n",
    "    df, filename, save_data=False, draw_n_days=200, draw=False)\n",
    "\n",
    "max_len_of_window = 40\n",
    "min_len_of_window = 10\n",
    "gamma = 0.7  # price_change_50 >= gamma * max_change:\n",
    "view_coe = 0  # 视野·系数\n",
    "var = 30\n",
    "\n",
    "result = find_horizontal_area1(df, high_points, low_points, var, max_len_of_window,\n",
    "                            min_len_of_window, gamma, view_coe, ignore_hl=True)\n",
    "\n",
    "n_days = 1000\n",
    "draw_horizontal_area(df, result, peaks, valleys, high_points,\n",
    "                    low_points, filename, n_days, print_result=True, show_plot=True)"
   ]
  },
  {
   "cell_type": "code",
   "execution_count": null,
   "metadata": {},
   "outputs": [],
   "source": [
    "n_days = 400\n",
    "draw_horizontal_area(df, result, peaks, valleys, high_points,\n",
    "                    low_points, filename, n_days, print_result=False, show_plot=True)"
   ]
  },
  {
   "cell_type": "code",
   "execution_count": 5,
   "metadata": {},
   "outputs": [],
   "source": [
    "import pandas as pd\n",
    "df = pd.read_csv('/Users/kai/Desktop/qs/data_csv_distinct_0606/_horizontal_area_pics/results.csv')"
   ]
  },
  {
   "cell_type": "code",
   "execution_count": 29,
   "metadata": {},
   "outputs": [
    {
     "name": "stdout",
     "output_type": "stream",
     "text": [
      "6 20 15.6\n",
      "6 30 17.35\n",
      "6 40 18.6\n",
      "6 50 19.46\n",
      "6 60 20.37\n",
      "6 70 21.15\n",
      "12 20 23.67\n",
      "12 30 27.09\n",
      "12 40 29.26\n",
      "12 50 30.66\n",
      "12 60 31.65\n",
      "12 70 32.59\n",
      "18 20 29.36\n",
      "18 30 34.92\n",
      "18 40 38.83\n",
      "18 50 41.7\n",
      "18 60 43.36\n",
      "18 70 44.91\n"
     ]
    }
   ],
   "source": [
    "df.columns = ['min_len_of_window', 'max_len_of_window', 'n', 'mean']\n",
    "df.dropna(inplace=True)\n",
    "for mins in (6,12,18):\n",
    "    for maxs in (20,30,40,50,60,70):\n",
    "        temp = df[(df['min_len_of_window']==mins) & (df['max_len_of_window']==maxs)]\n",
    "        print(mins, maxs, round(temp['mean'].dot(temp['n'])/temp['n'].sum(), 2))"
   ]
  },
  {
   "cell_type": "code",
   "execution_count": 21,
   "metadata": {},
   "outputs": [
    {
     "data": {
      "text/plain": [
       "26.5025"
      ]
     },
     "execution_count": 21,
     "metadata": {},
     "output_type": "execute_result"
    }
   ],
   "source": [
    "tt = df.iloc[1:3,:]\n",
    "tt['n'].dot(tt['mean'])/tt['n'].sum()\n"
   ]
  }
 ],
 "metadata": {
  "kernelspec": {
   "display_name": "base",
   "language": "python",
   "name": "python3"
  },
  "language_info": {
   "codemirror_mode": {
    "name": "ipython",
    "version": 3
   },
   "file_extension": ".py",
   "mimetype": "text/x-python",
   "name": "python",
   "nbconvert_exporter": "python",
   "pygments_lexer": "ipython3",
   "version": "3.9.7"
  },
  "orig_nbformat": 4
 },
 "nbformat": 4,
 "nbformat_minor": 2
}
