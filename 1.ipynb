{
 "cells": [
  {
   "cell_type": "code",
   "execution_count": null,
   "metadata": {},
   "outputs": [],
   "source": [
    "import pandas as pd\n",
    "df = pd.read_csv('/Users/kai/Desktop/qs/data_csv_distinct_0606/000001.SZ.csv')[['TRADE_DT', 'S_DQ_CLOSE']]\n",
    "df['TRADE_DT'] = pd.to_datetime(df['TRADE_DT'], format='%Y%m%d')"
   ]
  },
  {
   "cell_type": "code",
   "execution_count": null,
   "metadata": {},
   "outputs": [],
   "source": [
    "df['shift_date'] = df['TRADE_DT'].shift()\n",
    "display(df)\n",
    "df.dropna(subset=['shift_date'], inplace=True)\n",
    "df"
   ]
  },
  {
   "cell_type": "code",
   "execution_count": 7,
   "metadata": {},
   "outputs": [
    {
     "name": "stdout",
     "output_type": "stream",
     "text": [
      "3.387718915939331\n",
      "3.586271047592163\n"
     ]
    }
   ],
   "source": [
    "import time \n",
    "start1 = time.time()\n",
    "for i in range(10000):\n",
    "    df_cross = pd.DataFrame()\n",
    "    df_cross=df[(df['golden_cross']==1)|(df['death_cross']==1)]\n",
    "end1 = time.time()\n",
    "print(end1-start1)\n",
    "start2 = time.time()\n",
    "for i in range(10000):\n",
    "    df_cross = pd.DataFrame()\n",
    "    df_cross=df[(df['golden_cross']==1)|(df['death_cross']==1)].copy()\n",
    "end2 = time.time()\n",
    "print(end2-start2)"
   ]
  },
  {
   "cell_type": "code",
   "execution_count": 1,
   "metadata": {},
   "outputs": [
    {
     "name": "stdout",
     "output_type": "stream",
     "text": [
      "Current file path is /Users/kai/Desktop/qs/data_csv_distinct_0606/000001.SZ.csv\n"
     ]
    }
   ],
   "source": [
    "import high_low_xuejie_zuhui as hl\n",
    "import pandas as pd\n",
    "filename = '000001.SZ.csv'\n",
    "df = hl.df_init(filename)\n",
    "a = hl.find_high_low(df, filename=filename, save_data = False, draw_n_days=200, draw=True)"
   ]
  },
  {
   "cell_type": "code",
   "execution_count": 14,
   "metadata": {},
   "outputs": [
    {
     "name": "stdout",
     "output_type": "stream",
     "text": [
      "0\n",
      "9\n"
     ]
    },
    {
     "data": {
      "text/html": [
       "<div>\n",
       "<style scoped>\n",
       "    .dataframe tbody tr th:only-of-type {\n",
       "        vertical-align: middle;\n",
       "    }\n",
       "\n",
       "    .dataframe tbody tr th {\n",
       "        vertical-align: top;\n",
       "    }\n",
       "\n",
       "    .dataframe thead th {\n",
       "        text-align: right;\n",
       "    }\n",
       "</style>\n",
       "<table border=\"1\" class=\"dataframe\">\n",
       "  <thead>\n",
       "    <tr style=\"text-align: right;\">\n",
       "      <th></th>\n",
       "      <th>TRADE_DT</th>\n",
       "      <th>S_DQ_CLOSE</th>\n",
       "      <th>macd</th>\n",
       "      <th>macd_signal</th>\n",
       "      <th>golden_cross</th>\n",
       "      <th>death_cross</th>\n",
       "    </tr>\n",
       "  </thead>\n",
       "  <tbody>\n",
       "    <tr>\n",
       "      <th>0</th>\n",
       "      <td>2000-01-04</td>\n",
       "      <td>18.29</td>\n",
       "      <td>NaN</td>\n",
       "      <td>NaN</td>\n",
       "      <td>0</td>\n",
       "      <td>0</td>\n",
       "    </tr>\n",
       "    <tr>\n",
       "      <th>1</th>\n",
       "      <td>2000-01-05</td>\n",
       "      <td>18.06</td>\n",
       "      <td>NaN</td>\n",
       "      <td>NaN</td>\n",
       "      <td>0</td>\n",
       "      <td>0</td>\n",
       "    </tr>\n",
       "    <tr>\n",
       "      <th>2</th>\n",
       "      <td>2000-01-06</td>\n",
       "      <td>18.78</td>\n",
       "      <td>NaN</td>\n",
       "      <td>NaN</td>\n",
       "      <td>0</td>\n",
       "      <td>0</td>\n",
       "    </tr>\n",
       "    <tr>\n",
       "      <th>3</th>\n",
       "      <td>2000-01-07</td>\n",
       "      <td>19.54</td>\n",
       "      <td>NaN</td>\n",
       "      <td>NaN</td>\n",
       "      <td>0</td>\n",
       "      <td>0</td>\n",
       "    </tr>\n",
       "    <tr>\n",
       "      <th>4</th>\n",
       "      <td>2000-01-10</td>\n",
       "      <td>20.14</td>\n",
       "      <td>NaN</td>\n",
       "      <td>NaN</td>\n",
       "      <td>0</td>\n",
       "      <td>0</td>\n",
       "    </tr>\n",
       "  </tbody>\n",
       "</table>\n",
       "</div>"
      ],
      "text/plain": [
       "    TRADE_DT  S_DQ_CLOSE  macd  macd_signal  golden_cross  death_cross\n",
       "0 2000-01-04       18.29   NaN          NaN             0            0\n",
       "1 2000-01-05       18.06   NaN          NaN             0            0\n",
       "2 2000-01-06       18.78   NaN          NaN             0            0\n",
       "3 2000-01-07       19.54   NaN          NaN             0            0\n",
       "4 2000-01-10       20.14   NaN          NaN             0            0"
      ]
     },
     "metadata": {},
     "output_type": "display_data"
    },
    {
     "data": {
      "text/html": [
       "<div>\n",
       "<style scoped>\n",
       "    .dataframe tbody tr th:only-of-type {\n",
       "        vertical-align: middle;\n",
       "    }\n",
       "\n",
       "    .dataframe tbody tr th {\n",
       "        vertical-align: top;\n",
       "    }\n",
       "\n",
       "    .dataframe thead th {\n",
       "        text-align: right;\n",
       "    }\n",
       "</style>\n",
       "<table border=\"1\" class=\"dataframe\">\n",
       "  <thead>\n",
       "    <tr style=\"text-align: right;\">\n",
       "      <th></th>\n",
       "      <th>TRADE_DT</th>\n",
       "      <th>S_DQ_CLOSE</th>\n",
       "      <th>macd</th>\n",
       "      <th>macd_signal</th>\n",
       "      <th>golden_cross</th>\n",
       "      <th>death_cross</th>\n",
       "    </tr>\n",
       "  </thead>\n",
       "  <tbody>\n",
       "    <tr>\n",
       "      <th>2</th>\n",
       "      <td>2000-01-06</td>\n",
       "      <td>18.78</td>\n",
       "      <td>NaN</td>\n",
       "      <td>NaN</td>\n",
       "      <td>0</td>\n",
       "      <td>0</td>\n",
       "    </tr>\n",
       "    <tr>\n",
       "      <th>3</th>\n",
       "      <td>2000-01-07</td>\n",
       "      <td>19.54</td>\n",
       "      <td>NaN</td>\n",
       "      <td>NaN</td>\n",
       "      <td>0</td>\n",
       "      <td>9</td>\n",
       "    </tr>\n",
       "    <tr>\n",
       "      <th>4</th>\n",
       "      <td>2000-01-10</td>\n",
       "      <td>20.14</td>\n",
       "      <td>NaN</td>\n",
       "      <td>NaN</td>\n",
       "      <td>0</td>\n",
       "      <td>0</td>\n",
       "    </tr>\n",
       "  </tbody>\n",
       "</table>\n",
       "</div>"
      ],
      "text/plain": [
       "    TRADE_DT  S_DQ_CLOSE  macd  macd_signal  golden_cross  death_cross\n",
       "2 2000-01-06       18.78   NaN          NaN             0            0\n",
       "3 2000-01-07       19.54   NaN          NaN             0            9\n",
       "4 2000-01-10       20.14   NaN          NaN             0            0"
      ]
     },
     "metadata": {},
     "output_type": "display_data"
    }
   ],
   "source": [
    "df1 = df.head(5)\n",
    "df2 = df1[df1['TRADE_DT'] > '2000-01-05']\n",
    "print(df2.iloc[1,-1])\n",
    "df2.iat[1,-1] = 9\n",
    "print(df2.iloc[1,-1])\n",
    "display(df1)\n",
    "display(df2)"
   ]
  },
  {
   "cell_type": "code",
   "execution_count": null,
   "metadata": {},
   "outputs": [],
   "source": [
    "import sys\n",
    "import talib\n",
    "for i in sys.path:\n",
    "    print(i)"
   ]
  },
  {
   "cell_type": "code",
   "execution_count": 2,
   "metadata": {},
   "outputs": [],
   "source": [
    "def find_high_low_xuemei(df):\n",
    "    '''\n",
    "    Output:\n",
    "    ------------\n",
    "    (high_points, low_points)\\n\n",
    "    high_points = [{'high_date': '2019-01-01', 'high_price': 10.0}, ...]\\n\n",
    "    low_points = [{'low_date': '2019-01-01', 'low_price': 10.0}, ...]\n",
    "\n",
    "    Example:\n",
    "    ------------\n",
    "    >>> df = pd.read_csv('000001.SZ.csv')\n",
    "    >>> df['TRADE_DT'] = pd.to_datetime(df['TRADE_DT'], format='%Y%m%d')\n",
    "    >>> df = df[['TRADE_DT', 'S_DQ_CLOSE']]\n",
    "    >>> high_points, low_points = find_high_low(df)\n",
    "    '''\n",
    "    # 找出MACD\n",
    "    macd, macd_signal, _ = talib.MACD(df['S_DQ_CLOSE'].values)\n",
    "    df['macd'] = macd\n",
    "    df['macd_signal'] = macd_signal\n",
    "\n",
    "    # 找出金叉和死叉\n",
    "    df['golden_cross'] = ((df['macd'] > df['macd_signal']) & (\n",
    "        df['macd'].shift() < df['macd_signal'].shift())).astype(int)\n",
    "    df['death_cross'] = ((df['macd'] < df['macd_signal']) & (\n",
    "        df['macd'].shift() > df['macd_signal'].shift())).astype(int)\n",
    "\n",
    "    # 选出金叉和死叉\n",
    "    # * df_cross保存了金叉、死叉，shift_date是下一个x的日期\n",
    "    df_cross = df[(df['golden_cross'] == 1) | (df['death_cross'] == 1)].copy()\n",
    "    df_cross['shift_date'] = df_cross['TRADE_DT'].shift(-1)\n",
    "    df_cross = df_cross.dropna(subset=['shift_date'])\n",
    "    df_high_points = pd.DataFrame()\n",
    "    df_low_points = pd.DataFrame()\n",
    "    for index, row in df_cross.iterrows():\n",
    "        # df3保存了两个x之间的df\n",
    "        df_current_window = df[(df['TRADE_DT'] >= row['TRADE_DT']) & (\n",
    "            df['TRADE_DT'] <= row['shift_date'])]\n",
    "        if df_current_window.iloc[0]['golden_cross'] == 1:\n",
    "            # * 金叉->死叉，之间是高点\n",
    "            df_temp = df_current_window[df_current_window['S_DQ_CLOSE'].values ==\n",
    "                                        df_current_window['S_DQ_CLOSE'].max()]\n",
    "            df_temp = df_temp.head(1)\n",
    "            df_high_points = pd.concat([df_high_points, df_temp])\n",
    "        elif df_current_window.iloc[0]['death_cross'] == 1:\n",
    "            # * 死叉->金叉，之间是低点\n",
    "            df_temp = df_current_window[df_current_window['S_DQ_CLOSE'].values ==\n",
    "                                        df_current_window['S_DQ_CLOSE'].min()]\n",
    "            df_temp = df_temp.head(1)\n",
    "            df_low_points = pd.concat([df_low_points, df_temp])\n",
    "\n",
    "    # 初始化一个列表：high_points，其中每个元素是一个字典，包含两个键值对：high_date和high_price\n",
    "    high_points = []\n",
    "    for index, row in df_high_points.iterrows():\n",
    "        high_points.append(\n",
    "            {'high_date': row['TRADE_DT'], 'high_price': row['S_DQ_CLOSE']})\n",
    "    # 初始化一个列表：low_points，其中每个元素是一个字典，包含两个键值对：low_date和low_price\n",
    "    low_points = []\n",
    "    for index, row in df_low_points.iterrows():\n",
    "        low_points.append(\n",
    "            {'low_date': row['TRADE_DT'], 'low_price': row['S_DQ_CLOSE']})\n",
    "\n",
    "    return (high_points, low_points)\n"
   ]
  },
  {
   "cell_type": "code",
   "execution_count": 5,
   "metadata": {},
   "outputs": [],
   "source": [
    "import alternate_high_low as ahl\n",
    "\n",
    "# df = pd.read_csv('000001.SZ.csv')\n",
    "high_points, low_points = ahl.find_high_low(df)\n"
   ]
  }
 ],
 "metadata": {
  "kernelspec": {
   "display_name": "base",
   "language": "python",
   "name": "python3"
  },
  "language_info": {
   "codemirror_mode": {
    "name": "ipython",
    "version": 3
   },
   "file_extension": ".py",
   "mimetype": "text/x-python",
   "name": "python",
   "nbconvert_exporter": "python",
   "pygments_lexer": "ipython3",
   "version": "3.9.7"
  },
  "orig_nbformat": 4
 },
 "nbformat": 4,
 "nbformat_minor": 2
}
