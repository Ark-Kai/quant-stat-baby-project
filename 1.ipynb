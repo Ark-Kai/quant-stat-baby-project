{
 "cells": [
  {
   "cell_type": "code",
   "execution_count": null,
   "metadata": {},
   "outputs": [],
   "source": [
    "from high_low_xuejieZuhui import *\n",
    "from horizontal_area import *\n",
    "import os\n",
    "from test import *\n",
    "\n",
    "\n",
    "os.chdir('/Users/kai/Desktop/qs/data_csv_distinct_0606')\n",
    "for filename in os.listdir():\n",
    "    # filename = '000001.SZ.csv'\n",
    "    os.chdir('/Users/kai/Desktop/qs/data_csv_distinct_0606/_horizontal_area_pics')\n",
    "    df = df_init(filename)\n",
    "    peaks, valleys, high_points, low_points = find_high_low_xuejieZuhui(\n",
    "        df, filename, save_data=False, draw_n_days=200, draw=False)\n",
    "\n",
    "    max_len_of_window = 40\n",
    "    min_len_of_window = 12\n",
    "    gamma = 0.8  # price_change_50 >= gamma * max_change:\n",
    "    view_coe = 0.8  # 视野·系数\n",
    "\n",
    "    result = find_horizontal_area1(df, high_points, low_points, max_len_of_window,\n",
    "                                min_len_of_window, gamma, view_coe, ignore_hl=True)\n",
    "\n",
    "    n_days = 300\n",
    "    draw_horizontal_area(df, result, peaks, valleys, high_points,\n",
    "                        low_points, filename, n_days, print_result=False, show_plot=False)\n",
    "                        \n",
    "    os.chdir('/Users/kai/Desktop/qs/data_csv_distinct_0606')\n"
   ]
  },
  {
   "cell_type": "code",
   "execution_count": null,
   "metadata": {},
   "outputs": [],
   "source": [
    "from high_low_xuejieZuhui import *\n",
    "from horizontal_area import *\n",
    "import os\n",
    "from test import *"
   ]
  },
  {
   "cell_type": "code",
   "execution_count": null,
   "metadata": {},
   "outputs": [],
   "source": [
    "# filename = '688699.SH.csv'\n",
    "filename = '000001.SZ.csv'\n",
    "df = df_init(filename)\n",
    "peaks, valleys, high_points, low_points = find_high_low_xuejieZuhui(\n",
    "    df, filename, save_data=False, draw_n_days=200, draw=False)\n",
    "\n",
    "max_len_of_window = 40\n",
    "min_len_of_window = 10\n",
    "gamma = 0.7  # price_change_50 >= gamma * max_change:\n",
    "view_coe = 0  # 视野·系数\n",
    "var = 30\n",
    "\n",
    "result = find_horizontal_area1(df, high_points, low_points, var, max_len_of_window,\n",
    "                            min_len_of_window, gamma, view_coe, ignore_hl=True)\n",
    "\n",
    "n_days = 1000\n",
    "draw_horizontal_area(df, result, peaks, valleys, high_points,\n",
    "                    low_points, filename, n_days, print_result=True, show_plot=True)"
   ]
  },
  {
   "cell_type": "code",
   "execution_count": null,
   "metadata": {},
   "outputs": [],
   "source": [
    "n_days = 400\n",
    "draw_horizontal_area(df, result, peaks, valleys, high_points,\n",
    "                    low_points, filename, n_days, print_result=False, show_plot=True)"
   ]
  },
  {
   "cell_type": "code",
   "execution_count": 2,
   "metadata": {},
   "outputs": [
    {
     "name": "stdout",
     "output_type": "stream",
     "text": [
      "1\n",
      "2\n",
      "30\n"
     ]
    }
   ],
   "source": [
    "for i in [1,2,30]:\n",
    "    print(i)"
   ]
  }
 ],
 "metadata": {
  "kernelspec": {
   "display_name": "base",
   "language": "python",
   "name": "python3"
  },
  "language_info": {
   "codemirror_mode": {
    "name": "ipython",
    "version": 3
   },
   "file_extension": ".py",
   "mimetype": "text/x-python",
   "name": "python",
   "nbconvert_exporter": "python",
   "pygments_lexer": "ipython3",
   "version": "3.9.7"
  },
  "orig_nbformat": 4
 },
 "nbformat": 4,
 "nbformat_minor": 2
}
