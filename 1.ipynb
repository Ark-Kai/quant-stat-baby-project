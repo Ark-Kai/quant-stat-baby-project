{
 "cells": [
  {
   "cell_type": "code",
   "execution_count": null,
   "metadata": {},
   "outputs": [],
   "source": [
    "import pandas as pd\n",
    "df = pd.DataFrame({\"Col1\": [10, 20, 15, 30, 45],\n",
    "              \"Col2\": [13, 23, 18, 33, 48],\n",
    "              \"Col3\": [17, 27, 22, 37, 52]},\n",
    "             index=pd.date_range(\"2020-01-01\", \"2020-01-05\"))\n",
    "df"
   ]
  },
  {
   "cell_type": "code",
   "execution_count": null,
   "metadata": {},
   "outputs": [],
   "source": [
    "df.shift()"
   ]
  },
  {
   "cell_type": "code",
   "execution_count": 5,
   "metadata": {},
   "outputs": [],
   "source": [
    "import high_low_xuejie_zuhui as hl\n",
    "import pandas as pd\n",
    "df = pd.read_csv('/Users/kai/Desktop/qs/data_csv_distinct_0606/000001.SZ.csv')\n",
    "filename = '000001.SZ.csv'"
   ]
  },
  {
   "cell_type": "code",
   "execution_count": 6,
   "metadata": {},
   "outputs": [
    {
     "name": "stdout",
     "output_type": "stream",
     "text": [
      "/Users/kai/Desktop/qs/codes 1\n",
      "/Users/kai/opt/anaconda3/lib/python39.zip 1\n",
      "/Users/kai/opt/anaconda3/lib/python3.9 1\n",
      "/Users/kai/opt/anaconda3/lib/python3.9/lib-dynload 1\n",
      " 1\n",
      "/Users/kai/opt/anaconda3/lib/python3.9/site-packages 1\n",
      "/Users/kai/opt/anaconda3/lib/python3.9/site-packages/aeosa 1\n",
      "/Users/kai/opt/anaconda3/lib/python3.9/site-packages/locket-0.2.1-py3.9.egg 1\n",
      "/Users/kai/opt/anaconda3/lib/python3.9/site-packages/IPython/extensions 1\n",
      "/Users/kai/.ipython 1\n"
     ]
    }
   ],
   "source": [
    "import sys\n",
    "import talib\n",
    "for i in sys.path:\n",
    "    print(i,1)"
   ]
  }
 ],
 "metadata": {
  "kernelspec": {
   "display_name": "base",
   "language": "python",
   "name": "python3"
  },
  "language_info": {
   "codemirror_mode": {
    "name": "ipython",
    "version": 3
   },
   "file_extension": ".py",
   "mimetype": "text/x-python",
   "name": "python",
   "nbconvert_exporter": "python",
   "pygments_lexer": "ipython3",
   "version": "3.9.7"
  },
  "orig_nbformat": 4
 },
 "nbformat": 4,
 "nbformat_minor": 2
}
