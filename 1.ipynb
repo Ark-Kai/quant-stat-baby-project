{
 "cells": [
  {
   "cell_type": "code",
   "execution_count": null,
   "metadata": {},
   "outputs": [],
   "source": [
    "# 任意位置横盘测试\n",
    "import horizontal_area as ha\n",
    "import high_low_xuejie_zuhui as hl\n",
    "filename = '000001.SZ.csv'\n",
    "df = hl.df_init(filename)\n",
    "high_points, low_points = hl.find_high_low(df, filename, save_data=False, draw_n_days=400)\n",
    "result = ha.find_horizontal_area(df, high_points, low_points, fft_percentile=100, min_len_of_window=3, ignore_hl=False)\n",
    "ha.draw_horizontal_area(df, result, high_points, low_points, filename, n_days=200, print_result=False, show_plot=True, save_plot=False)"
   ]
  },
  {
   "cell_type": "code",
   "execution_count": null,
   "metadata": {},
   "outputs": [],
   "source": [
    "# hl median测试\n",
    "import horizontal_area as ha\n",
    "import high_low_xuejie_zuhui as hl\n",
    "filename = '000001.SZ.csv'\n",
    "df = hl.df_init(filename)\n",
    "high_points, low_points = hl.find_high_low(\n",
    "    df, filename, save_data=False, draw=False)\n",
    "result = ha.find_ha_near_hl_median(df, high_points, low_points, 0.03)\n",
    "ha.draw_horizontal_area(df, result, high_points, low_points, filename,\n",
    "                        n_days=270, print_result=False, show_plot=True, save_plot=False)\n"
   ]
  },
  {
   "cell_type": "code",
   "execution_count": null,
   "metadata": {},
   "outputs": [],
   "source": [
    "# 对上方得到的data曲线进行DFT变换，得到频域上的信号\n",
    "import numpy as np\n",
    "import matplotlib.pyplot as plt\n",
    "from scipy.fftpack import fft, ifft\n",
    "import pandas as pd\n",
    "import high_low_xuejie_zuhui as hl\n",
    "filename = '000002.SZ.csv'\n",
    "df = hl.df_init(filename)\n",
    "data = df.tail(200)\n",
    "data.plot(x='TRADE_DT', y='S_DQ_CLOSE', figsize=(20, 10))\n",
    "# 对data进行DFT变换\n",
    "data_fft = fft(data['S_DQ_CLOSE'].values)\n",
    "# 可视化\n",
    "plt.figure(figsize=(20, 10))\n",
    "plt.plot(data_fft)\n",
    "plt.show()\n",
    "# 计算频谱中的总能量，并计算高频成分所占的比例。如果高频成分所占比例较小，那么曲线就比较平滑。\n",
    "# 计算频谱中的总能量\n",
    "energy = (data_fft * np.conj(data_fft)).real\n",
    "# 计算高频成分所占的比例\n",
    "high_freq_ratio = np.sum(energy[10:]) / np.sum(energy)\n",
    "print(high_freq_ratio)\n",
    "# 对高频成分进行滤波\n",
    "data_fft_filtered = data_fft.copy()\n",
    "data_fft_filtered[15:] = 0\n",
    "# 对滤波后的数据进行逆变换\n",
    "data_filtered = ifft(data_fft_filtered)\n",
    "# 可视化\n",
    "plt.figure(figsize=(20, 10))\n",
    "plt.plot(data_filtered)\n",
    "plt.show()"
   ]
  },
  {
   "cell_type": "code",
   "execution_count": null,
   "metadata": {},
   "outputs": [],
   "source": [
    "# 对data曲线进行DFT变换，得到频域上的信号\n",
    "import numpy as np\n",
    "import matplotlib.pyplot as plt\n",
    "from scipy.fftpack import fft, ifft\n",
    "import pandas as pd\n",
    "import high_low_xuejie_zuhui as hl\n",
    "filename = '000002.SZ.csv'\n",
    "df = hl.df_init(filename)\n",
    "data = df.tail(200)\n",
    "# 将data等分为20份，对每份按照上述方法求的高频成分所占比例\n",
    "n = 20\n",
    "data_list = np.array_split(data, n)\n",
    "high_freq_ratio_list = []\n",
    "for temp_data in data_list:\n",
    "    data_fft = fft(temp_data['S_DQ_CLOSE'].values)\n",
    "    energy = (data_fft * np.conj(data_fft)).real\n",
    "    high_freq_ratio = np.sum(energy[3:]) / np.sum(energy)\n",
    "    high_freq_ratio_list.append(high_freq_ratio)\n",
    "# 可视化\n",
    "plt.figure(figsize=(20, 10))\n",
    "plt.plot(high_freq_ratio_list)\n",
    "plt.show()\n",
    "print(high_freq_ratio_list)\n",
    "# 使用plt.axvspan将高频成分占比可视化到data曲线上，高频占比越高的区域颜色越深\n",
    "plt.figure(figsize=(20, 10))\n",
    "plt.plot(data['S_DQ_CLOSE'].values)\n",
    "for i in range(len(high_freq_ratio_list)):\n",
    "    plt.axvspan(i * 10, (i + 1) * 10, facecolor='r',\n",
    "                alpha=high_freq_ratio_list[i] * 100)"
   ]
  },
  {
   "cell_type": "code",
   "execution_count": null,
   "metadata": {},
   "outputs": [],
   "source": [
    "heal = 0\n",
    "baoji = 0.51+0.32\n",
    "baoshang = 0.61\n",
    "loss = 0.9\n",
    "a = round(567+0.8*(4655+2394*(1+heal))+(567+0.8*(4655+2394*(1+heal)))*baoji*(baoshang))\n",
    "final = round(540+0.8*(4655+2394*(1+heal))+0.8*loss*(4655+2394*(1+heal))+(540+0.8*(4655+2394*(1+heal))+0.8*loss*(4655+2394*(1+heal)))*baoji*(baoshang))\n",
    "print(a, final)"
   ]
  },
  {
   "cell_type": "code",
   "execution_count": null,
   "metadata": {},
   "outputs": [],
   "source": [
    "heal = 0\n",
    "baoji = 0.51\n",
    "baoshang = 0.61+0.64\n",
    "loss = 0.9\n",
    "a = round(567+0.8*(4655+2394*(1+heal))+(567+0.8*(4655+2394*(1+heal)))*baoji*(baoshang))\n",
    "final = round(540+0.8*(4655+2394*(1+heal))+0.8*loss*(4655+2394*(1+heal))+(540+0.8*(4655+2394*(1+heal))+0.8*loss*(4655+2394*(1+heal)))*baoji*(baoshang))\n",
    "print(a, final)"
   ]
  },
  {
   "cell_type": "code",
   "execution_count": 5,
   "metadata": {},
   "outputs": [
    {
     "data": {
      "text/plain": [
       "110.00000000000001"
      ]
     },
     "execution_count": 5,
     "metadata": {},
     "output_type": "execute_result"
    }
   ],
   "source": [
    "100*1.1"
   ]
  }
 ],
 "metadata": {
  "kernelspec": {
   "display_name": "base",
   "language": "python",
   "name": "python3"
  },
  "language_info": {
   "codemirror_mode": {
    "name": "ipython",
    "version": 3
   },
   "file_extension": ".py",
   "mimetype": "text/x-python",
   "name": "python",
   "nbconvert_exporter": "python",
   "pygments_lexer": "ipython3",
   "version": "3.9.7"
  },
  "orig_nbformat": 4
 },
 "nbformat": 4,
 "nbformat_minor": 2
}
