{
 "cells": [
  {
   "cell_type": "code",
   "execution_count": 2,
   "metadata": {},
   "outputs": [],
   "source": [
    "import os\n",
    "import pandas as pd"
   ]
  },
  {
   "cell_type": "code",
   "execution_count": 12,
   "metadata": {},
   "outputs": [],
   "source": [
    "path = '/Users/kai/Desktop/qs/data_csv'\n",
    "# df = pd.read_csv('000001.SZ.csv')\n",
    "# # 去除df中的重复行\n",
    "# df = df.drop_duplicates()\n",
    "# df.to_csv('_.csv', index=False)\n",
    "\n",
    "# 定义一个函数，对文件夹内所有csv执行以上操作并覆盖原文件\n",
    "def my_drop_duplicates(path):\n",
    "    os.chdir(path)\n",
    "    for file in os.listdir():\n",
    "        with open(file, 'r', encoding='utf-8-sig') as f:\n",
    "            df = pd.read_csv(f)\n",
    "        df = df.drop_duplicates()\n",
    "        df.to_csv(file, index=False, encoding='utf-8-sig')\n",
    "        \n",
    "my_drop_duplicates(path)"
   ]
  }
 ],
 "metadata": {
  "kernelspec": {
   "display_name": "base",
   "language": "python",
   "name": "python3"
  },
  "language_info": {
   "codemirror_mode": {
    "name": "ipython",
    "version": 3
   },
   "file_extension": ".py",
   "mimetype": "text/x-python",
   "name": "python",
   "nbconvert_exporter": "python",
   "pygments_lexer": "ipython3",
   "version": "3.9.7"
  },
  "orig_nbformat": 4
 },
 "nbformat": 4,
 "nbformat_minor": 2
}
