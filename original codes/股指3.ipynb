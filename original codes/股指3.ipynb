{
 "cells": [
  {
   "cell_type": "code",
   "execution_count": 5,
   "metadata": {},
   "outputs": [],
   "source": [
    "import pandas as pd\n",
    "import cx_Oracle\n",
    "import os"
   ]
  },
  {
   "cell_type": "code",
   "execution_count": 7,
   "metadata": {},
   "outputs": [],
   "source": [
    "# basic code\n",
    "intern = cx_Oracle.makedsn('119.147.213.115', '1522', service_name='wktzorcl')\n",
    "os.chdir('/Users/kai/Desktop/qs/index')\n",
    "def queryOracle(sql):\n",
    "    # 创建连接\n",
    "    conn = cx_Oracle.connect(user='wktz_intern01', password='wktz_intern01', dsn=intern)\n",
    "    # 创建游标\n",
    "    curs = conn.cursor()\n",
    "    # 执行查询\n",
    "    curs.execute(sql)\n",
    "    # 返回查询结果\n",
    "    data = curs.fetchall()\n",
    "    # 获取列名\n",
    "    columns = [i[0] for i in curs.description]\n",
    "    # 将结果转换为DataFrame格式\n",
    "    df = pd.DataFrame(data, columns=columns)\n",
    "    # 关闭游标和连接\n",
    "    curs.close()\n",
    "    conn.close()\n",
    "    \n",
    "    return df"
   ]
  },
  {
   "cell_type": "code",
   "execution_count": 15,
   "metadata": {},
   "outputs": [],
   "source": [
    "# 1. 获取所有股index代码\n",
    "sql_get_all_index_code = '''\n",
    "SELECT distinct(s_info_windcode) FROM WKWD_SYNC.aindexeodprices\n",
    "'''\n",
    "indexcodes = queryOracle(sql_get_all_index_code)\n",
    "indexcodes.to_csv('indexcodes.csv', index=False)"
   ]
  },
  {
   "cell_type": "code",
   "execution_count": 12,
   "metadata": {},
   "outputs": [
    {
     "name": "stdout",
     "output_type": "stream",
     "text": [
      "399006.SZ\n",
      "000016.SH\n",
      "000001.SH\n",
      "399001.SZ\n",
      "000300.SH\n"
     ]
    }
   ],
   "source": [
    "for i in indexcodes['S_INFO_WINDCODE']:\n",
    "    # print i if i begins with 000\n",
    "    if i.startswith('000001.S') or i.startswith('399001.S') or i.startswith('399006.S') or i.startswith('000300.S') or i.startswith('000016.S'):\n",
    "        print(i)"
   ]
  },
  {
   "cell_type": "code",
   "execution_count": 18,
   "metadata": {},
   "outputs": [],
   "source": [
    "sql = '''\n",
    "    SELECT trade_dt, s_info_windcode FROM WKWD_SYNC.aindexeodprices\n",
    "    WHERE s_info_windcode IN ('399006.SZ', '000016.SH', '000001.SH', '399001.SZ', '000300.SH')\n",
    "    AND s_dq_pctchange > 3\n",
    "'''\n",
    "index_3 = queryOracle(sql)"
   ]
  },
  {
   "cell_type": "code",
   "execution_count": 19,
   "metadata": {},
   "outputs": [],
   "source": [
    "# 将index_3中的日期按照不同的s_info_windcode分成不同的csv文件\n",
    "for i in index_3['S_INFO_WINDCODE'].unique():\n",
    "    index_3[index_3['S_INFO_WINDCODE'] == i].to_csv(i + '.csv', index=False)"
   ]
  }
 ],
 "metadata": {
  "kernelspec": {
   "display_name": "base",
   "language": "python",
   "name": "python3"
  },
  "language_info": {
   "codemirror_mode": {
    "name": "ipython",
    "version": 3
   },
   "file_extension": ".py",
   "mimetype": "text/x-python",
   "name": "python",
   "nbconvert_exporter": "python",
   "pygments_lexer": "ipython3",
   "version": "3.9.7"
  },
  "orig_nbformat": 4
 },
 "nbformat": 4,
 "nbformat_minor": 2
}
