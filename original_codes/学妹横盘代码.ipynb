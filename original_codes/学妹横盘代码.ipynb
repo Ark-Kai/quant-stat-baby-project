{
 "cells": [
  {
   "cell_type": "code",
   "execution_count": 8,
   "id": "2f751104",
   "metadata": {},
   "outputs": [],
   "source": [
    "import numpy as np\n",
    "from datetime import datetime, timedelta\n",
    "import os\n",
    "import pandas as pd\n",
    "import matplotlib.pyplot as plt"
   ]
  },
  {
   "cell_type": "code",
   "execution_count": 9,
   "id": "e2267ca7",
   "metadata": {},
   "outputs": [],
   "source": [
    "# 读取数据并创建DataFrame\n",
    "data = pd.read_csv('000001.SZ.csv')\n",
    "df = pd.DataFrame(data)\n",
    "        \n",
    "# 转换日期列为日期时间类型\n",
    "df['TRADE_DT'] = pd.to_datetime(df['TRADE_DT'], format='%Y%m%d')\n",
    "        \n",
    "# 按日期排序\n",
    "df.sort_values('TRADE_DT', inplace=True)\n",
    "        \n",
    "# 初始化变量\n",
    "peaks = []\n",
    "valleys = []\n",
    "\n",
    "# 找到峰值和谷值\n",
    "for i in range(1, len(df) - 1):\n",
    "    if df['S_DQ_CLOSE'][i] > df['S_DQ_CLOSE'][i-1] and df['S_DQ_CLOSE'][i] > df['S_DQ_CLOSE'][i+1]:\n",
    "        peaks.append({'date': df['TRADE_DT'][i], 'price': df['S_DQ_CLOSE'][i]})\n",
    "    elif df['S_DQ_CLOSE'][i] < df['S_DQ_CLOSE'][i-1] and df['S_DQ_CLOSE'][i] < df['S_DQ_CLOSE'][i+1]:\n",
    "        valleys.append({'date': df['TRADE_DT'][i], 'price': df['S_DQ_CLOSE'][i]})\n",
    "\n",
    "# 计算波动周期的时间间隔和涨幅\n",
    "result_data = []\n",
    "for i in range(len(valleys) - 1):\n",
    "    valley_date = valleys[i]['date']\n",
    "    valley_price = valleys[i]['price']\n",
    "    next_valley_date = valleys[i+1]['date']\n",
    "    next_valley_price = valleys[i+1]['price']\n",
    "            \n",
    "# 寻找最高点价格\n",
    "    highest_price = df[(df['TRADE_DT'] > valley_date) & (df['TRADE_DT'] < next_valley_date)]['S_DQ_CLOSE'].max()\n",
    "            \n",
    "    price_change = (highest_price - valley_price) / valley_price * 100\n",
    "    interval = (next_valley_date - valley_date).days\n",
    "\n",
    "    result_data.append({'波动周期起始日期': valley_date,\n",
    "                        '波动周期终止日期': next_valley_date,\n",
    "                        '最低点价格': valley_price,\n",
    "                        '最高点价格': highest_price,\n",
    "                        '涨幅': price_change,\n",
    "                        '时间间隔（天）': interval})\n",
    "#峰值曲线的谷值，找低点\n",
    "peaks_valleys = [] \n",
    "         \n",
    "for i in range(2,len(peaks)-1):\n",
    "    if peaks[i-1]['price'] < peaks[i-2]['price'] and peaks[i]['price'] < peaks[i-1]['price'] and peaks[i]['price'] < peaks[i+1]['price']:\n",
    "        peaks_valleys.append({'date': peaks[i]['date'], 'price': peaks[i]['price']})\n",
    "        \n",
    "low_points = []\n",
    "for pv in peaks_valleys:\n",
    "    low_date_front = pv['date']\n",
    "    low_index = valleys.index(next(v for v in valleys if v['date'] > low_date_front))\n",
    "    low_price = valleys[low_index]['price']\n",
    "    low_date = valleys[low_index]['date']\n",
    "    low_points.append({'low_date': low_date, 'low_price': low_price})\n",
    "            \n",
    "#谷值曲线的峰值，找高点\n",
    "valleys_peaks = [] \n",
    "         \n",
    "for i in range(2,len(valleys)-1):\n",
    "    if valleys[i-1]['price'] > valleys[i-2]['price'] and valleys[i]['price'] > valleys[i-1]['price'] and valleys[i]['price'] > valleys[i+1]['price']:\n",
    "        valleys_peaks.append({'date': valleys[i]['date'], 'price': valleys[i]['price']})\n",
    "        \n",
    "high_points = []\n",
    "for vp in valleys_peaks:\n",
    "    high_date_front = vp['date']\n",
    "    high_index = peaks.index(next(p for p in peaks if p['date'] > high_date_front))\n",
    "    high_price = peaks[high_index]['price']\n",
    "    high_date = peaks[high_index]['date']\n",
    "    high_points.append({'high_date': high_date, 'high_price': high_price})"
   ]
  },
  {
   "cell_type": "code",
   "execution_count": 10,
   "id": "d7a06b7b",
   "metadata": {},
   "outputs": [],
   "source": [
    "high_points_df = pd.DataFrame(high_points)\n",
    "high_points_df.insert(loc=2, column='state', value=1)\n",
    "low_points_df = pd.DataFrame(low_points)\n",
    "low_points_df.insert(loc=2, column='state', value=-1)\n",
    "high_points_df.columns = ['date', 'price', 'state']\n",
    "low_points_df.columns = ['date', 'price', 'state']\n",
    "points_df = pd.concat([high_points_df, low_points_df])\n",
    "points_df.sort_values(by='date' , inplace=True, ascending=True)\n",
    "points_df = points_df.reset_index(drop=True)"
   ]
  },
  {
   "cell_type": "code",
   "execution_count": 11,
   "id": "1dfa2402",
   "metadata": {},
   "outputs": [],
   "source": [
    "#提取横盘出现的位置\n",
    "sideways = []\n",
    "for i in range(0,len(points_df)-2):\n",
    "    if points_df['state'][i] == points_df['state'][i+1]:\n",
    "        sideways.append({'index':i, 'state':points_df['state'][i], 'date':points_df['date'][i], 'price':points_df['price'][i]})\n",
    "sideways = pd.DataFrame(sideways)"
   ]
  },
  {
   "cell_type": "code",
   "execution_count": 12,
   "id": "fef6f2ec",
   "metadata": {},
   "outputs": [],
   "source": [
    "#寻找横盘\n",
    "sideways_all = []\n",
    "for i in range(len(sideways)):\n",
    "    if sideways['state'][i] == 1:\n",
    "        end_date = df[(df['TRADE_DT'] >= sideways['date'][i]) & (df['S_DQ_PRECLOSE'] > sideways['price'][i])]['TRADE_DT'].min() - timedelta(days=1)\n",
    "        start_date = sideways['date'][i]\n",
    "        high_ma_price = df[(df['TRADE_DT'] >= start_date) & (df['TRADE_DT'] <= end_date)]['S_DQ_PRECLOSE'].max()\n",
    "        low_ma_price = df[(df['TRADE_DT'] >= start_date) & (df['TRADE_DT'] <= end_date)]['S_DQ_PRECLOSE'].min()\n",
    "        start_date = df[(df['TRADE_DT'] <= sideways['date'][i]) & ((df['S_DQ_PRECLOSE'] > high_ma_price) | (df['S_DQ_PRECLOSE'] < low_ma_price))]['TRADE_DT'].max() + timedelta(days=1)\n",
    "        interval = (end_date - start_date).days\n",
    "        sideways_all.append({'start_date':start_date, 'end_date':end_date, 'interval':interval, 'state':sideways['state'][i]})\n",
    "    else:\n",
    "        end_date = df[(df['TRADE_DT'] >= sideways['date'][i]) & (df['S_DQ_PRECLOSE'] < sideways['price'][i])]['TRADE_DT'].min() - timedelta(days=1)\n",
    "        start_date = sideways['date'][i]\n",
    "        high_ma_price = df[(df['TRADE_DT'] >= start_date) & (df['TRADE_DT'] <= end_date)]['S_DQ_PRECLOSE'].max()\n",
    "        low_ma_price = df[(df['TRADE_DT'] >= start_date) & (df['TRADE_DT'] <= end_date)]['S_DQ_PRECLOSE'].min()\n",
    "        start_date = df[(df['TRADE_DT'] <= sideways['date'][i]) & ((df['S_DQ_PRECLOSE'] > high_ma_price) | (df['S_DQ_PRECLOSE'] < low_ma_price))]['TRADE_DT'].max() + timedelta(days=1)\n",
    "        interval = (end_date - start_date).days\n",
    "        sideways_all.append({'start_date':start_date, 'end_date':end_date, 'interval':interval, 'state':sideways['state'][i]})"
   ]
  },
  {
   "cell_type": "code",
   "execution_count": 19,
   "id": "72ec0062",
   "metadata": {},
   "outputs": [
    {
     "data": {
      "text/html": [
       "<div>\n",
       "<style scoped>\n",
       "    .dataframe tbody tr th:only-of-type {\n",
       "        vertical-align: middle;\n",
       "    }\n",
       "\n",
       "    .dataframe tbody tr th {\n",
       "        vertical-align: top;\n",
       "    }\n",
       "\n",
       "    .dataframe thead th {\n",
       "        text-align: right;\n",
       "    }\n",
       "</style>\n",
       "<table border=\"1\" class=\"dataframe\">\n",
       "  <thead>\n",
       "    <tr style=\"text-align: right;\">\n",
       "      <th></th>\n",
       "      <th>start_date</th>\n",
       "      <th>end_date</th>\n",
       "      <th>interval</th>\n",
       "      <th>state</th>\n",
       "    </tr>\n",
       "  </thead>\n",
       "  <tbody>\n",
       "    <tr>\n",
       "      <th>0</th>\n",
       "      <td>2000-03-03</td>\n",
       "      <td>2000-03-07</td>\n",
       "      <td>4.0</td>\n",
       "      <td>1</td>\n",
       "    </tr>\n",
       "    <tr>\n",
       "      <th>1</th>\n",
       "      <td>2000-05-23</td>\n",
       "      <td>2000-06-08</td>\n",
       "      <td>16.0</td>\n",
       "      <td>1</td>\n",
       "    </tr>\n",
       "    <tr>\n",
       "      <th>2</th>\n",
       "      <td>2000-07-07</td>\n",
       "      <td>2000-09-04</td>\n",
       "      <td>59.0</td>\n",
       "      <td>-1</td>\n",
       "    </tr>\n",
       "    <tr>\n",
       "      <th>3</th>\n",
       "      <td>2000-07-29</td>\n",
       "      <td>2007-01-29</td>\n",
       "      <td>2375.0</td>\n",
       "      <td>1</td>\n",
       "    </tr>\n",
       "    <tr>\n",
       "      <th>4</th>\n",
       "      <td>2000-12-13</td>\n",
       "      <td>2000-12-21</td>\n",
       "      <td>8.0</td>\n",
       "      <td>-1</td>\n",
       "    </tr>\n",
       "    <tr>\n",
       "      <th>...</th>\n",
       "      <td>...</td>\n",
       "      <td>...</td>\n",
       "      <td>...</td>\n",
       "      <td>...</td>\n",
       "    </tr>\n",
       "    <tr>\n",
       "      <th>108</th>\n",
       "      <td>2021-07-28</td>\n",
       "      <td>2021-08-05</td>\n",
       "      <td>8.0</td>\n",
       "      <td>-1</td>\n",
       "    </tr>\n",
       "    <tr>\n",
       "      <th>109</th>\n",
       "      <td>2021-12-02</td>\n",
       "      <td>2021-12-14</td>\n",
       "      <td>12.0</td>\n",
       "      <td>-1</td>\n",
       "    </tr>\n",
       "    <tr>\n",
       "      <th>110</th>\n",
       "      <td>2022-06-15</td>\n",
       "      <td>2022-07-13</td>\n",
       "      <td>28.0</td>\n",
       "      <td>-1</td>\n",
       "    </tr>\n",
       "    <tr>\n",
       "      <th>111</th>\n",
       "      <td>2022-11-30</td>\n",
       "      <td>2023-01-03</td>\n",
       "      <td>34.0</td>\n",
       "      <td>1</td>\n",
       "    </tr>\n",
       "    <tr>\n",
       "      <th>112</th>\n",
       "      <td>2023-02-07</td>\n",
       "      <td>2023-03-09</td>\n",
       "      <td>30.0</td>\n",
       "      <td>-1</td>\n",
       "    </tr>\n",
       "  </tbody>\n",
       "</table>\n",
       "<p>113 rows × 4 columns</p>\n",
       "</div>"
      ],
      "text/plain": [
       "    start_date   end_date  interval  state\n",
       "0   2000-03-03 2000-03-07       4.0      1\n",
       "1   2000-05-23 2000-06-08      16.0      1\n",
       "2   2000-07-07 2000-09-04      59.0     -1\n",
       "3   2000-07-29 2007-01-29    2375.0      1\n",
       "4   2000-12-13 2000-12-21       8.0     -1\n",
       "..         ...        ...       ...    ...\n",
       "108 2021-07-28 2021-08-05       8.0     -1\n",
       "109 2021-12-02 2021-12-14      12.0     -1\n",
       "110 2022-06-15 2022-07-13      28.0     -1\n",
       "111 2022-11-30 2023-01-03      34.0      1\n",
       "112 2023-02-07 2023-03-09      30.0     -1\n",
       "\n",
       "[113 rows x 4 columns]"
      ]
     },
     "execution_count": 19,
     "metadata": {},
     "output_type": "execute_result"
    }
   ],
   "source": [
    "sideways_all"
   ]
  },
  {
   "cell_type": "code",
   "execution_count": 23,
   "id": "d666e56f",
   "metadata": {},
   "outputs": [
    {
     "name": "stderr",
     "output_type": "stream",
     "text": [
      "D:\\Program\\anaconda3\\lib\\site-packages\\matplotlib\\patches.py:1111: VisibleDeprecationWarning: Creating an ndarray from ragged nested sequences (which is a list-or-tuple of lists-or-tuples-or ndarrays with different lengths or shapes) is deprecated. If you meant to do this, you must specify 'dtype=object' when creating the ndarray.\n",
      "  xy = np.asarray(xy)\n"
     ]
    },
    {
     "data": {
      "image/png": "[encoded data removed]",
      "text/plain": [
       "<Figure size 432x288 with 1 Axes>"
      ]
     },
     "metadata": {
      "needs_background": "light"
     },
     "output_type": "display_data"
    }
   ],
   "source": [
    "# 获取最后100天的数据\n",
    "last_hundred_days_df = df.tail(200)\n",
    "# 绘制折线图\n",
    "plt.plot(last_hundred_days_df['TRADE_DT'], last_hundred_days_df['S_DQ_CLOSE'], color='royalblue',alpha=0.8)\n",
    "# 将last_hundred_days_df['TRADE_DT']转换为与peaks中日期格式相同的字符串格式\n",
    "last_hundred_days_dates = last_hundred_days_df['TRADE_DT'].dt.strftime('%Y-%m-%d')\n",
    "# 提取最后100天内的峰值和谷值\n",
    "last_hundred_days_peaks = [peak for peak in peaks if peak['date'].strftime('%Y-%m-%d') in last_hundred_days_dates.values]\n",
    "last_hundred_days_valleys = [valley for valley in valleys if valley['date'].strftime('%Y-%m-%d') in last_hundred_days_dates.values]\n",
    "        \n",
    "# 提取最后100天内的高点和低点\n",
    "last_hundred_days_high = [high_point for high_point in high_points if high_point['high_date'].strftime('%Y-%m-%d') in last_hundred_days_dates.values]\n",
    "last_hundred_days_low = [low_point for low_point in low_points if low_point['low_date'].strftime('%Y-%m-%d') in last_hundred_days_dates.values]\n",
    "\n",
    "\n",
    "# 标记峰值和谷值\n",
    "for peak in last_hundred_days_peaks:\n",
    "    plt.scatter(peak['date'], peak['price'], color='red', marker='^', label='Peak',alpha=0.3)\n",
    "for valley in last_hundred_days_valleys:\n",
    "    plt.scatter(valley['date'], valley['price'], color='green', marker='v', label='Valley',alpha=0.3)\n",
    "            \n",
    "# 标记高点和低点\n",
    "for high_point in last_hundred_days_high:\n",
    "    plt.scatter(high_point['high_date'], high_point['high_price'], color='red', marker='*', label='high',s=80)\n",
    "for low_point in last_hundred_days_low:\n",
    "    plt.scatter(low_point['low_date'], low_point['low_price'], color='green', marker='*', label='Valley',s=80)\n",
    "\n",
    "# 设置图形标题和标签\n",
    "plt.title('Stock Price')\n",
    "plt.xlabel('Date')\n",
    "plt.ylabel('Price')\n",
    "plt.legend(labels=['Stock Price', 'Peak', 'Valley','High',\"Low\"])\n",
    "\n",
    "#标出横盘位置\n",
    "plt.axvspan(sideways_all.tail(1)['start_date'], sideways_all.tail(1)['end_date'], alpha=0.3, color='green')\n",
    "plt.axvspan(sideways_all['start_date'][111], sideways_all['end_date'][111], alpha=0.3, color='green')\n",
    "\n",
    "#显示图形\n",
    "plt.show()"
   ]
  },
  {
   "cell_type": "code",
   "execution_count": 22,
   "id": "1cfa62ea",
   "metadata": {},
   "outputs": [
    {
     "data": {
      "text/plain": [
       "<Figure size 1728x1152 with 0 Axes>"
      ]
     },
     "execution_count": 22,
     "metadata": {},
     "output_type": "execute_result"
    },
    {
     "data": {
      "text/plain": [
       "<Figure size 1728x1152 with 0 Axes>"
      ]
     },
     "metadata": {},
     "output_type": "display_data"
    }
   ],
   "source": [
    "plt.figure(figsize=(24,16))"
   ]
  },
  {
   "cell_type": "code",
   "execution_count": null,
   "id": "773b0336",
   "metadata": {},
   "outputs": [],
   "source": []
  }
 ],
 "metadata": {
  "kernelspec": {
   "display_name": "Python 3 (ipykernel)",
   "language": "python",
   "name": "python3"
  },
  "language_info": {
   "codemirror_mode": {
    "name": "ipython",
    "version": 3
   },
   "file_extension": ".py",
   "mimetype": "text/x-python",
   "name": "python",
   "nbconvert_exporter": "python",
   "pygments_lexer": "ipython3",
   "version": "3.9.12"
  }
 },
 "nbformat": 4,
 "nbformat_minor": 5
}
