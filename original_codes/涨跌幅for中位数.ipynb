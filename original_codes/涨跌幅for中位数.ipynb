{
 "cells": [
  {
   "cell_type": "code",
   "execution_count": 1,
   "id": "d9c1f594",
   "metadata": {},
   "outputs": [],
   "source": [
    "import talib\n",
    "import pandas as pd\n",
    "\n",
    "def find_high_low(df):\n",
    "    '''\n",
    "    Output:\n",
    "    ------------\n",
    "    (high_points, low_points)\\n\n",
    "    high_points = [{'high_date': '2019-01-01', 'high_price': 10.0}, ...]\\n\n",
    "    low_points = [{'low_date': '2019-01-01', 'low_price': 10.0}, ...]\n",
    "\n",
    "    Example:\n",
    "    ------------\n",
    "    >>> df = pd.read_csv('000001.SZ.csv')\n",
    "    >>> df['TRADE_DT'] = pd.to_datetime(df['TRADE_DT'], format='%Y%m%d')\n",
    "    >>> df = df[['TRADE_DT', 'S_DQ_CLOSE']]\n",
    "    >>> high_points, low_points = find_high_low(df)\n",
    "    '''\n",
    "    # 找出MACD\n",
    "    macd, macd_signal, _ = talib.MACD(df['S_DQ_CLOSE'].values)\n",
    "    df['macd'] = macd\n",
    "    df['macd_signal'] = macd_signal\n",
    "\n",
    "    # 找出金叉和死叉\n",
    "    df['golden_cross'] = ((df['macd'] > df['macd_signal']) & (\n",
    "        df['macd'].shift() < df['macd_signal'].shift())).astype(int)\n",
    "    df['death_cross'] = ((df['macd'] < df['macd_signal']) & (\n",
    "        df['macd'].shift() > df['macd_signal'].shift())).astype(int)\n",
    "\n",
    "    # 选出金叉和死叉\n",
    "    # * df_cross保存了金叉、死叉，shift_date是下一个x的日期\n",
    "    df_cross = df[(df['golden_cross'] == 1) | (df['death_cross'] == 1)].copy()\n",
    "    df_cross['shift_date'] = df_cross['TRADE_DT'].shift(-1)\n",
    "    df_cross = df_cross.dropna(subset=['shift_date'])\n",
    "    df_high_points = pd.DataFrame()\n",
    "    df_low_points = pd.DataFrame()\n",
    "    for index, row in df_cross.iterrows():\n",
    "        # df3保存了两个x之间的df\n",
    "        df_current_window = df[(df['TRADE_DT'] >= row['TRADE_DT']) & (\n",
    "            df['TRADE_DT'] <= row['shift_date'])]\n",
    "        if df_current_window.iloc[0]['golden_cross'] == 1:\n",
    "            # * 金叉->死叉，之间是高点\n",
    "            df_temp = df_current_window[df_current_window['S_DQ_CLOSE'].values ==\n",
    "                                        df_current_window['S_DQ_CLOSE'].max()]\n",
    "            df_temp = df_temp.head(1)\n",
    "            df_high_points = pd.concat([df_high_points, df_temp])\n",
    "        elif df_current_window.iloc[0]['death_cross'] == 1:\n",
    "            # * 死叉->金叉，之间是低点\n",
    "            df_temp = df_current_window[df_current_window['S_DQ_CLOSE'].values ==\n",
    "                                        df_current_window['S_DQ_CLOSE'].min()]\n",
    "            df_temp = df_temp.head(1)\n",
    "            df_low_points = pd.concat([df_low_points, df_temp])\n",
    "\n",
    "    # 初始化一个列表：high_points，其中每个元素是一个字典，包含两个键值对：high_date和high_price\n",
    "    high_points = []\n",
    "    for index, row in df_high_points.iterrows():\n",
    "        high_points.append(\n",
    "            {'high_date': row['TRADE_DT'], 'high_price': row['S_DQ_CLOSE']})\n",
    "    # 初始化一个列表：low_points，其中每个元素是一个字典，包含两个键值对：low_date和low_price\n",
    "    low_points = []\n",
    "    for index, row in df_low_points.iterrows():\n",
    "        low_points.append(\n",
    "            {'low_date': row['TRADE_DT'], 'low_price': row['S_DQ_CLOSE']})\n",
    "\n",
    "    return (high_points, low_points)"
   ]
  },
  {
   "cell_type": "code",
   "execution_count": 2,
   "id": "ccbc4f08",
   "metadata": {},
   "outputs": [],
   "source": [
    "import os\n",
    "import pandas as pd\n",
    "import matplotlib.pyplot as plt\n",
    "from datetime import datetime, timedelta\n",
    "import numpy as np\n",
    "data = pd.read_csv('000001.SZ.csv')\n",
    "df = pd.DataFrame(data)\n",
    "# 转换日期列为日期时间类型\n",
    "df['TRADE_DT'] = pd.to_datetime(df['TRADE_DT'], format='%Y%m%d')\n",
    "# 按日期排序\n",
    "df.sort_values('TRADE_DT', inplace=True)"
   ]
  },
  {
   "cell_type": "code",
   "execution_count": 3,
   "id": "b6b54d61",
   "metadata": {},
   "outputs": [],
   "source": [
    "hl = find_high_low(df)\n",
    "#合并高低点\n",
    "high_points_df = pd.DataFrame(hl[0])\n",
    "high_points_df.insert(loc=2, column='state', value=1)\n",
    "high_points_df.columns = ['date', 'price', 'state']\n",
    "low_points_df = pd.DataFrame(hl[1])\n",
    "low_points_df.insert(loc=2, column='state', value=-1)\n",
    "low_points_df.columns = ['date', 'price', 'state']\n",
    "points_df = pd.concat([high_points_df, low_points_df])\n",
    "points_df.sort_values(by='date' , inplace=True, ascending=True)\n",
    "points_df = points_df.reset_index(drop=True)"
   ]
  },
  {
   "cell_type": "code",
   "execution_count": 4,
   "id": "3613b234",
   "metadata": {},
   "outputs": [
    {
     "name": "stderr",
     "output_type": "stream",
     "text": [
      "/Users/kai/opt/anaconda3/lib/python3.9/site-packages/numpy/core/fromnumeric.py:3419: RuntimeWarning: Mean of empty slice.\n",
      "  return _methods._mean(a, axis=axis, dtype=dtype,\n",
      "/Users/kai/opt/anaconda3/lib/python3.9/site-packages/numpy/core/_methods.py:188: RuntimeWarning: invalid value encountered in double_scalars\n",
      "  ret = ret.dtype.type(ret / rcount)\n"
     ]
    }
   ],
   "source": [
    "# 通过振幅选定横盘，选择参数为+-5%\n",
    "sideways_all = []\n",
    "for i in range(len(points_df)):\n",
    "    if points_df['state'][i] == 1:\n",
    "        min_price = 0.95 * points_df['price'][i]\n",
    "        end_date = df[(df['TRADE_DT'] >= points_df['date'][i]) & (\n",
    "            df['S_DQ_CLOSE'] < min_price)]['TRADE_DT'].min() - timedelta(days=1)\n",
    "        start_date = df[(df['TRADE_DT'] <= points_df['date'][i]) & (\n",
    "            df['S_DQ_CLOSE'] < min_price)]['TRADE_DT'].max() + timedelta(days=1)\n",
    "        interval = (end_date - start_date).days\n",
    "        price_median = np.median(df[(df['TRADE_DT'] >= start_date) & (\n",
    "            df['TRADE_DT'] <= end_date)]['S_DQ_CLOSE'])\n",
    "        sideways_all.append({'start_date': start_date, 'end_date': end_date,\n",
    "                            'interval': interval, 'state': points_df['state'][i], 'median': price_median})\n",
    "    else:\n",
    "        max_price = 1.05 * points_df['price'][i]\n",
    "        end_date = df[(df['TRADE_DT'] >= points_df['date'][i]) & (\n",
    "            df['S_DQ_CLOSE'] > max_price)]['TRADE_DT'].min() - timedelta(days=1)\n",
    "        start_date = df[(df['TRADE_DT'] <= points_df['date'][i]) & (\n",
    "            df['S_DQ_CLOSE'] > max_price)]['TRADE_DT'].max() + timedelta(days=1)\n",
    "        interval = (end_date - start_date).days\n",
    "        price_median = np.median(df[(df['TRADE_DT'] >= start_date) & (\n",
    "            df['TRADE_DT'] <= end_date)]['S_DQ_CLOSE'])\n",
    "        sideways_all.append({'start_date': start_date, 'end_date': end_date,\n",
    "                            'interval': interval, 'state': points_df['state'][i], 'median': price_median})\n"
   ]
  },
  {
   "cell_type": "code",
   "execution_count": 5,
   "id": "663aead6",
   "metadata": {},
   "outputs": [],
   "source": [
    "sideways_all = pd.DataFrame(sideways_all)"
   ]
  },
  {
   "cell_type": "code",
   "execution_count": 6,
   "id": "702a2c90",
   "metadata": {},
   "outputs": [
    {
     "data": {
      "text/html": [
       "<div>\n",
       "<style scoped>\n",
       "    .dataframe tbody tr th:only-of-type {\n",
       "        vertical-align: middle;\n",
       "    }\n",
       "\n",
       "    .dataframe tbody tr th {\n",
       "        vertical-align: top;\n",
       "    }\n",
       "\n",
       "    .dataframe thead th {\n",
       "        text-align: right;\n",
       "    }\n",
       "</style>\n",
       "<table border=\"1\" class=\"dataframe\">\n",
       "  <thead>\n",
       "    <tr style=\"text-align: right;\">\n",
       "      <th></th>\n",
       "      <th>start_date</th>\n",
       "      <th>end_date</th>\n",
       "      <th>interval</th>\n",
       "      <th>state</th>\n",
       "      <th>median</th>\n",
       "    </tr>\n",
       "  </thead>\n",
       "  <tbody>\n",
       "    <tr>\n",
       "      <th>0</th>\n",
       "      <td>2000-02-16</td>\n",
       "      <td>2000-03-08</td>\n",
       "      <td>21.0</td>\n",
       "      <td>-1</td>\n",
       "      <td>18.485</td>\n",
       "    </tr>\n",
       "    <tr>\n",
       "      <th>1</th>\n",
       "      <td>2000-03-09</td>\n",
       "      <td>2000-03-09</td>\n",
       "      <td>0.0</td>\n",
       "      <td>1</td>\n",
       "      <td>20.080</td>\n",
       "    </tr>\n",
       "    <tr>\n",
       "      <th>2</th>\n",
       "      <td>2000-03-14</td>\n",
       "      <td>2000-04-06</td>\n",
       "      <td>23.0</td>\n",
       "      <td>-1</td>\n",
       "      <td>18.460</td>\n",
       "    </tr>\n",
       "    <tr>\n",
       "      <th>3</th>\n",
       "      <td>2000-01-27</td>\n",
       "      <td>2000-05-14</td>\n",
       "      <td>108.0</td>\n",
       "      <td>1</td>\n",
       "      <td>18.585</td>\n",
       "    </tr>\n",
       "    <tr>\n",
       "      <th>4</th>\n",
       "      <td>2000-03-14</td>\n",
       "      <td>2000-04-11</td>\n",
       "      <td>28.0</td>\n",
       "      <td>-1</td>\n",
       "      <td>18.480</td>\n",
       "    </tr>\n",
       "    <tr>\n",
       "      <th>...</th>\n",
       "      <td>...</td>\n",
       "      <td>...</td>\n",
       "      <td>...</td>\n",
       "      <td>...</td>\n",
       "      <td>...</td>\n",
       "    </tr>\n",
       "    <tr>\n",
       "      <th>425</th>\n",
       "      <td>2023-02-18</td>\n",
       "      <td>2023-03-07</td>\n",
       "      <td>17.0</td>\n",
       "      <td>1</td>\n",
       "      <td>14.035</td>\n",
       "    </tr>\n",
       "    <tr>\n",
       "      <th>426</th>\n",
       "      <td>2023-03-10</td>\n",
       "      <td>2023-05-07</td>\n",
       "      <td>58.0</td>\n",
       "      <td>-1</td>\n",
       "      <td>12.680</td>\n",
       "    </tr>\n",
       "    <tr>\n",
       "      <th>427</th>\n",
       "      <td>2022-11-29</td>\n",
       "      <td>2023-04-23</td>\n",
       "      <td>145.0</td>\n",
       "      <td>1</td>\n",
       "      <td>13.230</td>\n",
       "    </tr>\n",
       "    <tr>\n",
       "      <th>428</th>\n",
       "      <td>2023-04-21</td>\n",
       "      <td>2023-05-03</td>\n",
       "      <td>12.0</td>\n",
       "      <td>-1</td>\n",
       "      <td>12.270</td>\n",
       "    </tr>\n",
       "    <tr>\n",
       "      <th>429</th>\n",
       "      <td>2023-04-29</td>\n",
       "      <td>2023-05-11</td>\n",
       "      <td>12.0</td>\n",
       "      <td>1</td>\n",
       "      <td>12.880</td>\n",
       "    </tr>\n",
       "  </tbody>\n",
       "</table>\n",
       "<p>430 rows × 5 columns</p>\n",
       "</div>"
      ],
      "text/plain": [
       "    start_date   end_date  interval  state  median\n",
       "0   2000-02-16 2000-03-08      21.0     -1  18.485\n",
       "1   2000-03-09 2000-03-09       0.0      1  20.080\n",
       "2   2000-03-14 2000-04-06      23.0     -1  18.460\n",
       "3   2000-01-27 2000-05-14     108.0      1  18.585\n",
       "4   2000-03-14 2000-04-11      28.0     -1  18.480\n",
       "..         ...        ...       ...    ...     ...\n",
       "425 2023-02-18 2023-03-07      17.0      1  14.035\n",
       "426 2023-03-10 2023-05-07      58.0     -1  12.680\n",
       "427 2022-11-29 2023-04-23     145.0      1  13.230\n",
       "428 2023-04-21 2023-05-03      12.0     -1  12.270\n",
       "429 2023-04-29 2023-05-11      12.0      1  12.880\n",
       "\n",
       "[430 rows x 5 columns]"
      ]
     },
     "execution_count": 6,
     "metadata": {},
     "output_type": "execute_result"
    }
   ],
   "source": [
    "sideways_all"
   ]
  },
  {
   "cell_type": "code",
   "execution_count": 7,
   "id": "f0390305",
   "metadata": {},
   "outputs": [
    {
     "name": "stderr",
     "output_type": "stream",
     "text": [
      "/var/folders/f9/b51s7zb522gdcv9fkbfxx33c0000gn/T/ipykernel_95209/2684703752.py:7: SettingWithCopyWarning: \n",
      "A value is trying to be set on a copy of a slice from a DataFrame\n",
      "\n",
      "See the caveats in the documentation: https://pandas.pydata.org/pandas-docs/stable/user_guide/indexing.html#returning-a-view-versus-a-copy\n",
      "  sideways_all['amplitude'][i] = 0.0\n",
      "/var/folders/f9/b51s7zb522gdcv9fkbfxx33c0000gn/T/ipykernel_95209/2684703752.py:5: SettingWithCopyWarning: \n",
      "A value is trying to be set on a copy of a slice from a DataFrame\n",
      "\n",
      "See the caveats in the documentation: https://pandas.pydata.org/pandas-docs/stable/user_guide/indexing.html#returning-a-view-versus-a-copy\n",
      "  sideways_all['amplitude'][i] = amplitude\n"
     ]
    }
   ],
   "source": [
    "sideways_all['amplitude'] = 0.0\n",
    "for i in range(len(sideways_all)):\n",
    "    if i > 0:\n",
    "        amplitude = abs(sideways_all['median'][i] - sideways_all['median'][i-1]) / sideways_all['median'][i]\n",
    "        sideways_all['amplitude'][i] = amplitude\n",
    "    else:\n",
    "        sideways_all['amplitude'][i] = 0.0"
   ]
  },
  {
   "cell_type": "code",
   "execution_count": 8,
   "id": "4c274151",
   "metadata": {},
   "outputs": [],
   "source": [
    "#删除振幅过小的部分\n",
    "amplitude_all = sideways_all[sideways_all['amplitude']>0.05]"
   ]
  },
  {
   "cell_type": "code",
   "execution_count": 12,
   "id": "4147bf5a",
   "metadata": {},
   "outputs": [
    {
     "data": {
      "text/plain": [
       "{'whiskers': [<matplotlib.lines.Line2D at 0x7fbfe9b32610>,\n",
       "  <matplotlib.lines.Line2D at 0x7fbfe9b329a0>],\n",
       " 'caps': [<matplotlib.lines.Line2D at 0x7fbfe9b32d30>,\n",
       "  <matplotlib.lines.Line2D at 0x7fbfe9b3b130>],\n",
       " 'boxes': [<matplotlib.lines.Line2D at 0x7fbfe9b32280>],\n",
       " 'medians': [<matplotlib.lines.Line2D at 0x7fbfe9b3b4c0>],\n",
       " 'fliers': [<matplotlib.lines.Line2D at 0x7fbfe9b3b850>],\n",
       " 'means': []}"
      ]
     },
     "execution_count": 12,
     "metadata": {},
     "output_type": "execute_result"
    },
    {
     "data": {
      "image/png": "[encoded data removed]",
      "text/plain": [
       "<Figure size 720x360 with 1 Axes>"
      ]
     },
     "metadata": {
      "needs_background": "light"
     },
     "output_type": "display_data"
    }
   ],
   "source": [
    "plt.boxplot(amplitude_all['amplitude'])"
   ]
  },
  {
   "cell_type": "code",
   "execution_count": 11,
   "id": "5ade10ad",
   "metadata": {},
   "outputs": [
    {
     "name": "stdout",
     "output_type": "stream",
     "text": [
      "2023-02-10 00:00:00\n",
      "2023-02-19 00:00:00\n",
      "9.0\n",
      "---\n",
      "2023-03-10 00:00:00\n",
      "2023-05-07 00:00:00\n",
      "58.0\n",
      "---\n",
      "2023-04-21 00:00:00\n",
      "2023-05-03 00:00:00\n",
      "12.0\n",
      "---\n"
     ]
    },
    {
     "data": {
      "image/png": "[encoded data removed]",
      "text/plain": [
       "<Figure size 720x360 with 1 Axes>"
      ]
     },
     "metadata": {
      "needs_background": "light"
     },
     "output_type": "display_data"
    },
    {
     "data": {
      "text/plain": [
       "(277, 26988.0)"
      ]
     },
     "execution_count": 11,
     "metadata": {},
     "output_type": "execute_result"
    }
   ],
   "source": [
    "import horizontal_area as ha\n",
    "ha.draw_horizontal_area(df, amplitude_all, hl[0], hl[1], '000001.SZ.csv')"
   ]
  }
 ],
 "metadata": {
  "kernelspec": {
   "display_name": "Python 3 (ipykernel)",
   "language": "python",
   "name": "python3"
  },
  "language_info": {
   "codemirror_mode": {
    "name": "ipython",
    "version": 3
   },
   "file_extension": ".py",
   "mimetype": "text/x-python",
   "name": "python",
   "nbconvert_exporter": "python",
   "pygments_lexer": "ipython3",
   "version": "3.9.7"
  }
 },
 "nbformat": 4,
 "nbformat_minor": 5
}
