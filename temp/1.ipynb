{
 "cells": [
  {
   "cell_type": "code",
   "execution_count": null,
   "metadata": {},
   "outputs": [],
   "source": [
    "# 任意位置横盘测试\n",
    "import horizontal_area as ha\n",
    "import high_low_xuejie_zuhui as hl\n",
    "filename = '000001.SZ.csv'\n",
    "df = hl.df_init(filename)\n",
    "high_points, low_points = hl.find_high_low(df, filename, save_data=False, draw_n_days=400)\n",
    "result = ha.find_horizontal_area(df, high_points, low_points, gamma=0.1, fft_percentile=100, min_len_of_window=3, ignore_hl=False)\n",
    "ha.draw_horizontal_area(df, result, high_points, low_points, filename, n_days=200, print_result=False, show_plot=True, save_plot=False)"
   ]
  },
  {
   "cell_type": "code",
   "execution_count": null,
   "metadata": {},
   "outputs": [],
   "source": [
    "# MACD robust 任意位置横盘测试\n",
    "import horizontal_area as ha\n",
    "import high_low_xuejie_zuhui as hl\n",
    "filename = '000001.SZ.csv'\n",
    "df = hl.df_init(filename)\n",
    "high_points, low_points = hl.find_hl_MACD_robust(df, filename, draw_n_days=400)\n",
    "result = ha.find_horizontal_area(df, high_points, low_points, gamma=0.1, fft_percentile=100, min_len_of_window=3, ignore_hl=False)\n",
    "ha.draw_horizontal_area(df, result, high_points, low_points, filename, n_days=200, print_result=False, show_plot=True, save_plot=False)"
   ]
  },
  {
   "cell_type": "code",
   "execution_count": null,
   "metadata": {},
   "outputs": [],
   "source": [
    "z,zz = hl.find_hl_MACD_robust(df, filename, fig_start_date='2000-1', fig_end_date='2001-12')"
   ]
  },
  {
   "cell_type": "code",
   "execution_count": null,
   "metadata": {},
   "outputs": [],
   "source": [
    "from wave_price_change import *\n",
    "waves = wave_idnetify(filename='000001.SZ.csv', alpha=0.05)\n",
    "draw_waves(df, waves, '2020-12', '2021-10')"
   ]
  },
  {
   "cell_type": "code",
   "execution_count": null,
   "metadata": {},
   "outputs": [],
   "source": [
    "# hl median测试\n",
    "import horizontal_area as ha\n",
    "import high_low_xuejie_zuhui as hl\n",
    "filename = '000001.SZ.csv'\n",
    "df = hl.df_init(filename)\n",
    "high_points, low_points = hl.find_high_low(\n",
    "    df, filename, save_data=False, draw=False)\n",
    "result = ha.find_ha_near_hl_median(df, high_points, low_points, 0.03)\n",
    "ha.draw_horizontal_area(df, result, high_points, low_points, filename,\n",
    "                        n_days=270, print_result=False, show_plot=True, save_plot=False)\n"
   ]
  },
  {
   "cell_type": "code",
   "execution_count": null,
   "metadata": {},
   "outputs": [],
   "source": [
    "# 对上方得到的data曲线进行DFT变换，得到频域上的信号\n",
    "import numpy as np\n",
    "import matplotlib.pyplot as plt\n",
    "from scipy.fftpack import fft, ifft\n",
    "import pandas as pd\n",
    "import high_low_xuejie_zuhui as hl\n",
    "filename = '000002.SZ.csv'\n",
    "df = hl.df_init(filename)\n",
    "data = df.tail(200)\n",
    "data.plot(x='TRADE_DT', y='S_DQ_CLOSE', figsize=(20, 10))\n",
    "# 对data进行DFT变换\n",
    "data_fft = fft(data['S_DQ_CLOSE'].values)\n",
    "# 可视化\n",
    "plt.figure(figsize=(20, 10))\n",
    "plt.plot(data_fft)\n",
    "plt.show()\n",
    "# 计算频谱中的总能量，并计算高频成分所占的比例。如果高频成分所占比例较小，那么曲线就比较平滑。\n",
    "# 计算频谱中的总能量\n",
    "energy = (data_fft * np.conj(data_fft)).real\n",
    "# 计算高频成分所占的比例\n",
    "high_freq_ratio = np.sum(energy[10:]) / np.sum(energy)\n",
    "print(high_freq_ratio)\n",
    "# 对高频成分进行滤波\n",
    "data_fft_filtered = data_fft.copy()\n",
    "data_fft_filtered[15:] = 0\n",
    "# 对滤波后的数据进行逆变换\n",
    "data_filtered = ifft(data_fft_filtered)\n",
    "# 可视化\n",
    "plt.figure(figsize=(20, 10))\n",
    "plt.plot(data_filtered)\n",
    "plt.show()"
   ]
  },
  {
   "cell_type": "code",
   "execution_count": null,
   "metadata": {},
   "outputs": [],
   "source": [
    "# 对data曲线进行DFT变换，得到频域上的信号\n",
    "import numpy as np\n",
    "import matplotlib.pyplot as plt\n",
    "from scipy.fftpack import fft, ifft\n",
    "import pandas as pd\n",
    "import high_low_xuejie_zuhui as hl\n",
    "filename = '000002.SZ.csv'\n",
    "df = hl.df_init(filename)\n",
    "data = df.tail(200)\n",
    "# 将data等分为20份，对每份按照上述方法求的高频成分所占比例\n",
    "n = 20\n",
    "data_list = np.array_split(data, n)\n",
    "high_freq_ratio_list = []\n",
    "for temp_data in data_list:\n",
    "    data_fft = fft(temp_data['S_DQ_CLOSE'].values)\n",
    "    energy = (data_fft * np.conj(data_fft)).real\n",
    "    high_freq_ratio = np.sum(energy[3:]) / np.sum(energy)\n",
    "    high_freq_ratio_list.append(high_freq_ratio)\n",
    "# 可视化\n",
    "plt.figure(figsize=(20, 10))\n",
    "plt.plot(high_freq_ratio_list)\n",
    "plt.show()\n",
    "print(high_freq_ratio_list)\n",
    "# 使用plt.axvspan将高频成分占比可视化到data曲线上，高频占比越高的区域颜色越深\n",
    "plt.figure(figsize=(20, 10))\n",
    "plt.plot(data['S_DQ_CLOSE'].values)\n",
    "for i in range(len(high_freq_ratio_list)):\n",
    "    plt.axvspan(i * 10, (i + 1) * 10, facecolor='r',\n",
    "                alpha=high_freq_ratio_list[i] * 100)"
   ]
  },
  {
   "cell_type": "code",
   "execution_count": null,
   "metadata": {},
   "outputs": [],
   "source": [
    "heal = 0\n",
    "baoji = 0.51+0.32\n",
    "baoshang = 0.61\n",
    "loss = 0.9\n",
    "a = round(567+0.8*(4655+2394*(1+heal))+(567+0.8*(4655+2394*(1+heal)))*baoji*(baoshang))\n",
    "final = round(540+0.8*(4655+2394*(1+heal))+0.8*loss*(4655+2394*(1+heal))+(540+0.8*(4655+2394*(1+heal))+0.8*loss*(4655+2394*(1+heal)))*baoji*(baoshang))\n",
    "print(a, final)"
   ]
  },
  {
   "cell_type": "code",
   "execution_count": null,
   "metadata": {},
   "outputs": [],
   "source": [
    "heal = 0\n",
    "baoji = 0.51\n",
    "baoshang = 0.61+0.64\n",
    "loss = 0.9\n",
    "a = round(567+0.8*(4655+2394*(1+heal))+(567+0.8*(4655+2394*(1+heal)))*baoji*(baoshang))\n",
    "final = round(540+0.8*(4655+2394*(1+heal))+0.8*loss*(4655+2394*(1+heal))+(540+0.8*(4655+2394*(1+heal))+0.8*loss*(4655+2394*(1+heal)))*baoji*(baoshang))\n",
    "print(a, final)"
   ]
  },
  {
   "cell_type": "code",
   "execution_count": null,
   "metadata": {},
   "outputs": [],
   "source": [
    "100*1.1"
   ]
  },
  {
   "cell_type": "code",
   "execution_count": null,
   "metadata": {},
   "outputs": [],
   "source": [
    "import high_low_xuejie_zuhui as hl\n",
    "df = hl.df_init('301335.SZ.csv')\n",
    "z,zz = hl.find_high_low(df, '301335.SZ.csv')"
   ]
  },
  {
   "cell_type": "code",
   "execution_count": 4,
   "metadata": {},
   "outputs": [
    {
     "name": "stderr",
     "output_type": "stream",
     "text": [
      "                                                      \r"
     ]
    }
   ],
   "source": [
    "import pandas as pd\n",
    "import os\n",
    "from tqdm import tqdm\n",
    "import wave_price_change as wpc\n",
    "from high_low_xuejie_zuhui import df_init\n",
    "\n",
    "count = 0\n",
    "all_waves = pd.DataFrame()\n",
    "for filename in tqdm(os.listdir('/Users/kai/Desktop/qs/data_csv_distinct_0606'), leave=False):\n",
    "    if filename.endswith('.csv'):\n",
    "        # make sure filename is str\n",
    "        waves = wpc.cal_price_change_rate(filename, alpha=0.05)\n",
    "        all_waves = all_waves.append(waves)\n",
    "        # count += 1\n",
    "        # if count > 10:\n",
    "        #     break"
   ]
  },
  {
   "cell_type": "code",
   "execution_count": 1,
   "metadata": {},
   "outputs": [],
   "source": [
    "import pandas as pd\n",
    "all_waves = pd.read_csv('/Users/kai/Desktop/qs/archive/all_waves.csv')"
   ]
  },
  {
   "cell_type": "code",
   "execution_count": 2,
   "metadata": {},
   "outputs": [
    {
     "data": {
      "image/png": "[encoded data removed]",
      "text/plain": [
       "<Figure size 360x576 with 1 Axes>"
      ]
     },
     "metadata": {
      "needs_background": "light"
     },
     "output_type": "display_data"
    },
    {
     "data": {
      "image/png": "[encoded data removed]",
      "text/plain": [
       "<Figure size 504x360 with 1 Axes>"
      ]
     },
     "metadata": {
      "needs_background": "light"
     },
     "output_type": "display_data"
    },
    {
     "data": {
      "image/png": "[encoded data removed]",
      "text/plain": [
       "<Figure size 360x576 with 1 Axes>"
      ]
     },
     "metadata": {
      "needs_background": "light"
     },
     "output_type": "display_data"
    },
    {
     "data": {
      "image/png": "[encoded data removed]",
      "text/plain": [
       "<Figure size 504x360 with 1 Axes>"
      ]
     },
     "metadata": {
      "needs_background": "light"
     },
     "output_type": "display_data"
    }
   ],
   "source": [
    "import wave_price_change as wpc\n",
    "wpc.plot_pcg_rate(all_waves, 0.985)"
   ]
  },
  {
   "cell_type": "code",
   "execution_count": 10,
   "metadata": {},
   "outputs": [],
   "source": [
    "# 计算all_waves的0,5,10,...,95,100分位数并保存csv\n",
    "import pandas as pd\n",
    "all_waves = pd.read_csv('/Users/kai/Desktop/qs/archive/all_waves.csv')\n",
    "positive = all_waves[all_waves['price_change_rate']>=0]\n",
    "negative = all_waves[all_waves['price_change_rate']<0]\n",
    "positive['price_change_rate'].quantile([i/100 for i in range(0, 105, 5)]).to_csv('/Users/kai/Desktop/qs/archive/positive.csv')\n",
    "negative['price_change_rate'].quantile([i/100 for i in range(0, 105, 5)]).to_csv('/Users/kai/Desktop/qs/archive/negative.csv')"
   ]
  },
  {
   "cell_type": "code",
   "execution_count": 2,
   "metadata": {},
   "outputs": [
    {
     "name": "stderr",
     "output_type": "stream",
     "text": [
      "100%|██████████| 5406/5406 [15:37<00:00,  5.77it/s]\n"
     ]
    }
   ],
   "source": [
    "# 计算每只股票的买入卖出时间\n",
    "from open_position import open_position\n",
    "import pandas as pd\n",
    "import high_low_xuejie_zuhui as hl\n",
    "from close_position import close_position\n",
    "import os\n",
    "from tqdm import tqdm\n",
    "\n",
    "for filename in tqdm(os.listdir('/Users/kai/Desktop/qs/data_csv_distinct_0606')):\n",
    "    if filename.endswith('.csv'):\n",
    "        df = hl.df_init(filename)\n",
    "        buy_date = open_position(df)\n",
    "        close_date = []\n",
    "        if len(buy_date) == 0:\n",
    "            continue\n",
    "        for i in range(len(buy_date)):\n",
    "            temp_close_date = close_position(df[df['TRADE_DT'] >= buy_date[i]])['date'].tolist()\n",
    "            if len(temp_close_date) == 0:\n",
    "                continue\n",
    "            close_date.append(temp_close_date[0])\n",
    "        # 为buy date和close date打上标签后合并，按照日期排序\n",
    "        buy_date = pd.DataFrame(buy_date, columns=['date'])\n",
    "        buy_date['type'] = 'buy'\n",
    "        close_date = pd.DataFrame(close_date, columns=['date'])\n",
    "        close_date['type'] = 'close'\n",
    "        buy_close_date = pd.concat([buy_date, close_date], axis=0)\n",
    "        buy_close_date.sort_values(by='date', inplace=True)\n",
    "        buy_close_date.reset_index(drop=True, inplace=True)\n",
    "        filename = filename[:-4]\n",
    "        buy_close_date.to_csv('/Users/kai/Desktop/qs/archive/0731_codes_backup/temp/buy_close_data/{}.csv'.format(filename), index=False)"
   ]
  },
  {
   "cell_type": "code",
   "execution_count": 5,
   "metadata": {},
   "outputs": [
    {
     "name": "stdout",
     "output_type": "stream",
     "text": [
      "Index(['TRADE_DT', 'S_DQ_CLOSE'], dtype='object')\n"
     ]
    },
    {
     "data": {
      "text/html": [
       "<div>\n",
       "<style scoped>\n",
       "    .dataframe tbody tr th:only-of-type {\n",
       "        vertical-align: middle;\n",
       "    }\n",
       "\n",
       "    .dataframe tbody tr th {\n",
       "        vertical-align: top;\n",
       "    }\n",
       "\n",
       "    .dataframe thead th {\n",
       "        text-align: right;\n",
       "    }\n",
       "</style>\n",
       "<table border=\"1\" class=\"dataframe\">\n",
       "  <thead>\n",
       "    <tr style=\"text-align: right;\">\n",
       "      <th></th>\n",
       "      <th>date</th>\n",
       "      <th>type</th>\n",
       "    </tr>\n",
       "  </thead>\n",
       "  <tbody>\n",
       "    <tr>\n",
       "      <th>0</th>\n",
       "      <td>2000-05-13</td>\n",
       "      <td>buy</td>\n",
       "    </tr>\n",
       "    <tr>\n",
       "      <th>1</th>\n",
       "      <td>2000-05-24</td>\n",
       "      <td>close</td>\n",
       "    </tr>\n",
       "    <tr>\n",
       "      <th>2</th>\n",
       "      <td>2000-10-13</td>\n",
       "      <td>buy</td>\n",
       "    </tr>\n",
       "    <tr>\n",
       "      <th>3</th>\n",
       "      <td>2000-11-09</td>\n",
       "      <td>buy</td>\n",
       "    </tr>\n",
       "    <tr>\n",
       "      <th>4</th>\n",
       "      <td>2000-11-15</td>\n",
       "      <td>close</td>\n",
       "    </tr>\n",
       "    <tr>\n",
       "      <th>5</th>\n",
       "      <td>2001-06-04</td>\n",
       "      <td>close</td>\n",
       "    </tr>\n",
       "    <tr>\n",
       "      <th>6</th>\n",
       "      <td>2003-11-19</td>\n",
       "      <td>buy</td>\n",
       "    </tr>\n",
       "    <tr>\n",
       "      <th>7</th>\n",
       "      <td>2003-12-01</td>\n",
       "      <td>close</td>\n",
       "    </tr>\n",
       "    <tr>\n",
       "      <th>8</th>\n",
       "      <td>2006-01-03</td>\n",
       "      <td>buy</td>\n",
       "    </tr>\n",
       "    <tr>\n",
       "      <th>9</th>\n",
       "      <td>2006-01-16</td>\n",
       "      <td>close</td>\n",
       "    </tr>\n",
       "    <tr>\n",
       "      <th>10</th>\n",
       "      <td>2006-05-12</td>\n",
       "      <td>buy</td>\n",
       "    </tr>\n",
       "    <tr>\n",
       "      <th>11</th>\n",
       "      <td>2006-05-17</td>\n",
       "      <td>close</td>\n",
       "    </tr>\n",
       "    <tr>\n",
       "      <th>12</th>\n",
       "      <td>2007-07-26</td>\n",
       "      <td>buy</td>\n",
       "    </tr>\n",
       "    <tr>\n",
       "      <th>13</th>\n",
       "      <td>2007-08-22</td>\n",
       "      <td>close</td>\n",
       "    </tr>\n",
       "    <tr>\n",
       "      <th>14</th>\n",
       "      <td>2008-05-04</td>\n",
       "      <td>buy</td>\n",
       "    </tr>\n",
       "    <tr>\n",
       "      <th>15</th>\n",
       "      <td>2008-06-10</td>\n",
       "      <td>close</td>\n",
       "    </tr>\n",
       "    <tr>\n",
       "      <th>16</th>\n",
       "      <td>2008-09-08</td>\n",
       "      <td>buy</td>\n",
       "    </tr>\n",
       "    <tr>\n",
       "      <th>17</th>\n",
       "      <td>2008-10-04</td>\n",
       "      <td>buy</td>\n",
       "    </tr>\n",
       "    <tr>\n",
       "      <th>18</th>\n",
       "      <td>2008-10-10</td>\n",
       "      <td>close</td>\n",
       "    </tr>\n",
       "    <tr>\n",
       "      <th>19</th>\n",
       "      <td>2008-10-10</td>\n",
       "      <td>close</td>\n",
       "    </tr>\n",
       "    <tr>\n",
       "      <th>20</th>\n",
       "      <td>2012-08-22</td>\n",
       "      <td>buy</td>\n",
       "    </tr>\n",
       "    <tr>\n",
       "      <th>21</th>\n",
       "      <td>2012-09-26</td>\n",
       "      <td>close</td>\n",
       "    </tr>\n",
       "    <tr>\n",
       "      <th>22</th>\n",
       "      <td>2015-07-30</td>\n",
       "      <td>buy</td>\n",
       "    </tr>\n",
       "    <tr>\n",
       "      <th>23</th>\n",
       "      <td>2015-08-03</td>\n",
       "      <td>close</td>\n",
       "    </tr>\n",
       "    <tr>\n",
       "      <th>24</th>\n",
       "      <td>2016-12-01</td>\n",
       "      <td>buy</td>\n",
       "    </tr>\n",
       "    <tr>\n",
       "      <th>25</th>\n",
       "      <td>2016-12-12</td>\n",
       "      <td>close</td>\n",
       "    </tr>\n",
       "    <tr>\n",
       "      <th>26</th>\n",
       "      <td>2017-05-15</td>\n",
       "      <td>buy</td>\n",
       "    </tr>\n",
       "    <tr>\n",
       "      <th>27</th>\n",
       "      <td>2017-06-15</td>\n",
       "      <td>close</td>\n",
       "    </tr>\n",
       "    <tr>\n",
       "      <th>28</th>\n",
       "      <td>2017-06-22</td>\n",
       "      <td>buy</td>\n",
       "    </tr>\n",
       "    <tr>\n",
       "      <th>29</th>\n",
       "      <td>2017-07-17</td>\n",
       "      <td>close</td>\n",
       "    </tr>\n",
       "    <tr>\n",
       "      <th>30</th>\n",
       "      <td>2017-12-07</td>\n",
       "      <td>buy</td>\n",
       "    </tr>\n",
       "    <tr>\n",
       "      <th>31</th>\n",
       "      <td>2018-01-31</td>\n",
       "      <td>close</td>\n",
       "    </tr>\n",
       "    <tr>\n",
       "      <th>32</th>\n",
       "      <td>2018-07-12</td>\n",
       "      <td>buy</td>\n",
       "    </tr>\n",
       "    <tr>\n",
       "      <th>33</th>\n",
       "      <td>2018-08-07</td>\n",
       "      <td>close</td>\n",
       "    </tr>\n",
       "  </tbody>\n",
       "</table>\n",
       "</div>"
      ],
      "text/plain": [
       "         date   type\n",
       "0  2000-05-13    buy\n",
       "1  2000-05-24  close\n",
       "2  2000-10-13    buy\n",
       "3  2000-11-09    buy\n",
       "4  2000-11-15  close\n",
       "5  2001-06-04  close\n",
       "6  2003-11-19    buy\n",
       "7  2003-12-01  close\n",
       "8  2006-01-03    buy\n",
       "9  2006-01-16  close\n",
       "10 2006-05-12    buy\n",
       "11 2006-05-17  close\n",
       "12 2007-07-26    buy\n",
       "13 2007-08-22  close\n",
       "14 2008-05-04    buy\n",
       "15 2008-06-10  close\n",
       "16 2008-09-08    buy\n",
       "17 2008-10-04    buy\n",
       "18 2008-10-10  close\n",
       "19 2008-10-10  close\n",
       "20 2012-08-22    buy\n",
       "21 2012-09-26  close\n",
       "22 2015-07-30    buy\n",
       "23 2015-08-03  close\n",
       "24 2016-12-01    buy\n",
       "25 2016-12-12  close\n",
       "26 2017-05-15    buy\n",
       "27 2017-06-15  close\n",
       "28 2017-06-22    buy\n",
       "29 2017-07-17  close\n",
       "30 2017-12-07    buy\n",
       "31 2018-01-31  close\n",
       "32 2018-07-12    buy\n",
       "33 2018-08-07  close"
      ]
     },
     "execution_count": 5,
     "metadata": {},
     "output_type": "execute_result"
    }
   ],
   "source": [
    "# 计算每只股票的买入卖出时间\n",
    "from open_position import open_position\n",
    "import pandas as pd\n",
    "import high_low_xuejie_zuhui as hl\n",
    "from close_position import close_position\n",
    "import os\n",
    "from tqdm import tqdm\n",
    "\n",
    "\n",
    "filename = '000626.SZ.csv'\n",
    "df = hl.df_init(filename)\n",
    "print(df.columns)\n",
    "buy_date = open_position(df)\n",
    "close_date = []\n",
    "for i in range(len(buy_date)):\n",
    "    temp_close_date = close_position(df[df['TRADE_DT'] >= buy_date[i]])['date'].tolist()\n",
    "    if len(temp_close_date) == 0:\n",
    "        continue\n",
    "    close_date.append(temp_close_date[0])\n",
    "# 为buy date和close date打上标签后合并，按照日期排序\n",
    "buy_date = pd.DataFrame(buy_date, columns=['date'])\n",
    "buy_date['type'] = 'buy'\n",
    "close_date = pd.DataFrame(close_date, columns=['date'])\n",
    "close_date['type'] = 'close'\n",
    "buy_close_date = pd.concat([buy_date, close_date], axis=0)\n",
    "buy_close_date.sort_values(by='date', inplace=True)\n",
    "buy_close_date.reset_index(drop=True, inplace=True)\n",
    "buy_close_date"
   ]
  },
  {
   "cell_type": "code",
   "execution_count": 7,
   "metadata": {},
   "outputs": [
    {
     "data": {
      "image/png": "[encoded data removed]",
      "text/plain": [
       "<Figure size 720x360 with 1 Axes>"
      ]
     },
     "metadata": {
      "needs_background": "light"
     },
     "output_type": "display_data"
    }
   ],
   "source": [
    "from crash import crash, draw_crash\n",
    "filename = '000626.SZ.csv'\n",
    "df = hl.df_init(filename)\n",
    "c = crash(df)\n",
    "draw_crash(df, c, fig_start_date='2000', fig_end_date='2001')"
   ]
  }
 ],
 "metadata": {
  "kernelspec": {
   "display_name": "base",
   "language": "python",
   "name": "python3"
  },
  "language_info": {
   "codemirror_mode": {
    "name": "ipython",
    "version": 3
   },
   "file_extension": ".py",
   "mimetype": "text/x-python",
   "name": "python",
   "nbconvert_exporter": "python",
   "pygments_lexer": "ipython3",
   "version": "3.9.7"
  },
  "orig_nbformat": 4
 },
 "nbformat": 4,
 "nbformat_minor": 2
}
